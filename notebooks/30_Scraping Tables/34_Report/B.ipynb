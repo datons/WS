{
 "cells": [
  {
   "cell_type": "markdown",
   "metadata": {},
   "source": [
    "# Reports"
   ]
  },
  {
   "cell_type": "markdown",
   "metadata": {},
   "source": [
    "## Load data"
   ]
  },
  {
   "cell_type": "code",
   "execution_count": 7,
   "metadata": {},
   "outputs": [
    {
     "data": {
      "text/html": [
       "<div>\n",
       "<style scoped>\n",
       "    .dataframe tbody tr th:only-of-type {\n",
       "        vertical-align: middle;\n",
       "    }\n",
       "\n",
       "    .dataframe tbody tr th {\n",
       "        vertical-align: top;\n",
       "    }\n",
       "\n",
       "    .dataframe thead th {\n",
       "        text-align: right;\n",
       "    }\n",
       "</style>\n",
       "<table border=\"1\" class=\"dataframe\">\n",
       "  <thead>\n",
       "    <tr style=\"text-align: right;\">\n",
       "      <th></th>\n",
       "      <th>price</th>\n",
       "      <th>volume</th>\n",
       "      <th>cost</th>\n",
       "    </tr>\n",
       "    <tr>\n",
       "      <th>datetime</th>\n",
       "      <th></th>\n",
       "      <th></th>\n",
       "      <th></th>\n",
       "    </tr>\n",
       "  </thead>\n",
       "  <tbody>\n",
       "    <tr>\n",
       "      <th>2024-01-01 00:00:00</th>\n",
       "      <td>63.33</td>\n",
       "      <td>8744.9</td>\n",
       "      <td>553814.517</td>\n",
       "    </tr>\n",
       "    <tr>\n",
       "      <th>2024-01-01 01:00:00</th>\n",
       "      <td>50.09</td>\n",
       "      <td>8671.4</td>\n",
       "      <td>434350.426</td>\n",
       "    </tr>\n",
       "    <tr>\n",
       "      <th>...</th>\n",
       "      <td>...</td>\n",
       "      <td>...</td>\n",
       "      <td>...</td>\n",
       "    </tr>\n",
       "    <tr>\n",
       "      <th>2024-01-31 22:00:00</th>\n",
       "      <td>85.00</td>\n",
       "      <td>12171.6</td>\n",
       "      <td>1034586.000</td>\n",
       "    </tr>\n",
       "    <tr>\n",
       "      <th>2024-01-31 23:00:00</th>\n",
       "      <td>77.52</td>\n",
       "      <td>10826.8</td>\n",
       "      <td>839293.536</td>\n",
       "    </tr>\n",
       "  </tbody>\n",
       "</table>\n",
       "<p>744 rows × 3 columns</p>\n",
       "</div>"
      ],
      "text/plain": [
       "                     price   volume         cost\n",
       "datetime                                        \n",
       "2024-01-01 00:00:00  63.33   8744.9   553814.517\n",
       "2024-01-01 01:00:00  50.09   8671.4   434350.426\n",
       "...                    ...      ...          ...\n",
       "2024-01-31 22:00:00  85.00  12171.6  1034586.000\n",
       "2024-01-31 23:00:00  77.52  10826.8   839293.536\n",
       "\n",
       "[744 rows x 3 columns]"
      ]
     },
     "execution_count": 7,
     "metadata": {},
     "output_type": "execute_result"
    }
   ],
   "source": [
    "import pandas as pd\n",
    "\n",
    "df = pd.read_excel('../data/processed/2024-01.xlsx', index_col=0, parse_dates=True)\n",
    "df"
   ]
  },
  {
   "cell_type": "markdown",
   "metadata": {},
   "source": [
    "## Descriptive statistics"
   ]
  },
  {
   "cell_type": "code",
   "execution_count": 8,
   "metadata": {},
   "outputs": [
    {
     "data": {
      "text/html": [
       "<style type=\"text/css\">\n",
       "</style>\n",
       "<table id=\"T_9c8f0\">\n",
       "  <thead>\n",
       "    <tr>\n",
       "      <th class=\"blank level0\" >&nbsp;</th>\n",
       "      <th id=\"T_9c8f0_level0_col0\" class=\"col_heading level0 col0\" >price</th>\n",
       "      <th id=\"T_9c8f0_level0_col1\" class=\"col_heading level0 col1\" >volume</th>\n",
       "      <th id=\"T_9c8f0_level0_col2\" class=\"col_heading level0 col2\" >cost</th>\n",
       "    </tr>\n",
       "  </thead>\n",
       "  <tbody>\n",
       "    <tr>\n",
       "      <th id=\"T_9c8f0_level0_row0\" class=\"row_heading level0 row0\" >count</th>\n",
       "      <td id=\"T_9c8f0_row0_col0\" class=\"data row0 col0\" >744.000000</td>\n",
       "      <td id=\"T_9c8f0_row0_col1\" class=\"data row0 col1\" >744.000000</td>\n",
       "      <td id=\"T_9c8f0_row0_col2\" class=\"data row0 col2\" >744.000000</td>\n",
       "    </tr>\n",
       "    <tr>\n",
       "      <th id=\"T_9c8f0_level0_row1\" class=\"row_heading level0 row1\" >mean</th>\n",
       "      <td id=\"T_9c8f0_row1_col0\" class=\"data row1 col0\" >74.100094</td>\n",
       "      <td id=\"T_9c8f0_row1_col1\" class=\"data row1 col1\" >15939.247446</td>\n",
       "      <td id=\"T_9c8f0_row1_col2\" class=\"data row1 col2\" >1164582.355187</td>\n",
       "    </tr>\n",
       "    <tr>\n",
       "      <th id=\"T_9c8f0_level0_row2\" class=\"row_heading level0 row2\" >std</th>\n",
       "      <td id=\"T_9c8f0_row2_col0\" class=\"data row2 col0\" >27.921106</td>\n",
       "      <td id=\"T_9c8f0_row2_col1\" class=\"data row2 col1\" >3756.225242</td>\n",
       "      <td id=\"T_9c8f0_row2_col2\" class=\"data row2 col2\" >518957.249522</td>\n",
       "    </tr>\n",
       "    <tr>\n",
       "      <th id=\"T_9c8f0_level0_row3\" class=\"row_heading level0 row3\" >min</th>\n",
       "      <td id=\"T_9c8f0_row3_col0\" class=\"data row3 col0\" >0.430000</td>\n",
       "      <td id=\"T_9c8f0_row3_col1\" class=\"data row3 col1\" >8101.900000</td>\n",
       "      <td id=\"T_9c8f0_row3_col2\" class=\"data row3 col2\" >7890.543000</td>\n",
       "    </tr>\n",
       "    <tr>\n",
       "      <th id=\"T_9c8f0_level0_row4\" class=\"row_heading level0 row4\" >25%</th>\n",
       "      <td id=\"T_9c8f0_row4_col0\" class=\"data row4 col0\" >58.500000</td>\n",
       "      <td id=\"T_9c8f0_row4_col1\" class=\"data row4 col1\" >13034.675000</td>\n",
       "      <td id=\"T_9c8f0_row4_col2\" class=\"data row4 col2\" >827025.967500</td>\n",
       "    </tr>\n",
       "    <tr>\n",
       "      <th id=\"T_9c8f0_level0_row5\" class=\"row_heading level0 row5\" >50%</th>\n",
       "      <td id=\"T_9c8f0_row5_col0\" class=\"data row5 col0\" >75.950000</td>\n",
       "      <td id=\"T_9c8f0_row5_col1\" class=\"data row5 col1\" >15633.450000</td>\n",
       "      <td id=\"T_9c8f0_row5_col2\" class=\"data row5 col2\" >1143475.784000</td>\n",
       "    </tr>\n",
       "    <tr>\n",
       "      <th id=\"T_9c8f0_level0_row6\" class=\"row_heading level0 row6\" >75%</th>\n",
       "      <td id=\"T_9c8f0_row6_col0\" class=\"data row6 col0\" >92.682500</td>\n",
       "      <td id=\"T_9c8f0_row6_col1\" class=\"data row6 col1\" >18707.625000</td>\n",
       "      <td id=\"T_9c8f0_row6_col2\" class=\"data row6 col2\" >1412800.950250</td>\n",
       "    </tr>\n",
       "    <tr>\n",
       "      <th id=\"T_9c8f0_level0_row7\" class=\"row_heading level0 row7\" >max</th>\n",
       "      <td id=\"T_9c8f0_row7_col0\" class=\"data row7 col0\" >168.350000</td>\n",
       "      <td id=\"T_9c8f0_row7_col1\" class=\"data row7 col1\" >28691.400000</td>\n",
       "      <td id=\"T_9c8f0_row7_col2\" class=\"data row7 col2\" >2729740.534000</td>\n",
       "    </tr>\n",
       "  </tbody>\n",
       "</table>\n"
      ],
      "text/plain": [
       "<pandas.io.formats.style.Styler at 0x1741b7a70>"
      ]
     },
     "execution_count": 8,
     "metadata": {},
     "output_type": "execute_result"
    }
   ],
   "source": [
    "df.describe().style"
   ]
  },
  {
   "cell_type": "markdown",
   "metadata": {},
   "source": [
    "## Plots"
   ]
  },
  {
   "cell_type": "markdown",
   "metadata": {},
   "source": [
    "### Line variation plot"
   ]
  },
  {
   "cell_type": "code",
   "execution_count": 9,
   "metadata": {},
   "outputs": [
    {
     "data": {
      "image/png": "[encoded data removed]",
      "text/plain": [
       "<Figure size 640x480 with 3 Axes>"
      ]
     },
     "metadata": {},
     "output_type": "display_data"
    }
   ],
   "source": [
    "import matplotlib.pyplot as plt\n",
    "\n",
    "df.plot.line(subplots=True)\n",
    "plt.savefig('output/price_volume.png')"
   ]
  },
  {
   "cell_type": "markdown",
   "metadata": {},
   "source": [
    "### Cumulative area plot"
   ]
  },
  {
   "cell_type": "code",
   "execution_count": 10,
   "metadata": {},
   "outputs": [
    {
     "data": {
      "text/plain": [
       "<Axes: xlabel='datetime'>"
      ]
     },
     "execution_count": 10,
     "metadata": {},
     "output_type": "execute_result"
    },
    {
     "data": {
      "image/png": "[encoded data removed]",
      "text/plain": [
       "<Figure size 640x480 with 1 Axes>"
      ]
     },
     "metadata": {},
     "output_type": "display_data"
    }
   ],
   "source": [
    "df['cost'].cumsum().plot.area()"
   ]
  },
  {
   "cell_type": "code",
   "execution_count": 11,
   "metadata": {},
   "outputs": [
    {
     "data": {
      "text/html": [
       "<div>\n",
       "<style scoped>\n",
       "    .dataframe tbody tr th:only-of-type {\n",
       "        vertical-align: middle;\n",
       "    }\n",
       "\n",
       "    .dataframe tbody tr th {\n",
       "        vertical-align: top;\n",
       "    }\n",
       "\n",
       "    .dataframe thead th {\n",
       "        text-align: right;\n",
       "    }\n",
       "</style>\n",
       "<table border=\"1\" class=\"dataframe\">\n",
       "  <thead>\n",
       "    <tr style=\"text-align: right;\">\n",
       "      <th></th>\n",
       "      <th>price</th>\n",
       "      <th>volume</th>\n",
       "      <th>cost</th>\n",
       "      <th>hour</th>\n",
       "      <th>hour_bin</th>\n",
       "    </tr>\n",
       "    <tr>\n",
       "      <th>datetime</th>\n",
       "      <th></th>\n",
       "      <th></th>\n",
       "      <th></th>\n",
       "      <th></th>\n",
       "      <th></th>\n",
       "    </tr>\n",
       "  </thead>\n",
       "  <tbody>\n",
       "    <tr>\n",
       "      <th>2024-01-01 00:00:00</th>\n",
       "      <td>63.33</td>\n",
       "      <td>8744.9</td>\n",
       "      <td>553814.517</td>\n",
       "      <td>0</td>\n",
       "      <td>0-8</td>\n",
       "    </tr>\n",
       "    <tr>\n",
       "      <th>2024-01-01 01:00:00</th>\n",
       "      <td>50.09</td>\n",
       "      <td>8671.4</td>\n",
       "      <td>434350.426</td>\n",
       "      <td>1</td>\n",
       "      <td>0-8</td>\n",
       "    </tr>\n",
       "    <tr>\n",
       "      <th>...</th>\n",
       "      <td>...</td>\n",
       "      <td>...</td>\n",
       "      <td>...</td>\n",
       "      <td>...</td>\n",
       "      <td>...</td>\n",
       "    </tr>\n",
       "    <tr>\n",
       "      <th>2024-01-31 22:00:00</th>\n",
       "      <td>85.00</td>\n",
       "      <td>12171.6</td>\n",
       "      <td>1034586.000</td>\n",
       "      <td>22</td>\n",
       "      <td>16-24</td>\n",
       "    </tr>\n",
       "    <tr>\n",
       "      <th>2024-01-31 23:00:00</th>\n",
       "      <td>77.52</td>\n",
       "      <td>10826.8</td>\n",
       "      <td>839293.536</td>\n",
       "      <td>23</td>\n",
       "      <td>16-24</td>\n",
       "    </tr>\n",
       "  </tbody>\n",
       "</table>\n",
       "<p>744 rows × 5 columns</p>\n",
       "</div>"
      ],
      "text/plain": [
       "                     price   volume         cost  hour hour_bin\n",
       "datetime                                                       \n",
       "2024-01-01 00:00:00  63.33   8744.9   553814.517     0      0-8\n",
       "2024-01-01 01:00:00  50.09   8671.4   434350.426     1      0-8\n",
       "...                    ...      ...          ...   ...      ...\n",
       "2024-01-31 22:00:00  85.00  12171.6  1034586.000    22    16-24\n",
       "2024-01-31 23:00:00  77.52  10826.8   839293.536    23    16-24\n",
       "\n",
       "[744 rows x 5 columns]"
      ]
     },
     "execution_count": 11,
     "metadata": {},
     "output_type": "execute_result"
    }
   ],
   "source": [
    "df['hour'] = df.index.hour\n",
    "df['hour_bin'] = pd.cut(\n",
    "    df['hour'],\n",
    "    bins=[0,8,16,24],\n",
    "    labels=['0-8', '8-16', '16-24'],\n",
    "    right=False\n",
    ")\n",
    "\n",
    "df"
   ]
  },
  {
   "cell_type": "code",
   "execution_count": 12,
   "metadata": {},
   "outputs": [
    {
     "data": {
      "text/html": [
       "<div>\n",
       "<style scoped>\n",
       "    .dataframe tbody tr th:only-of-type {\n",
       "        vertical-align: middle;\n",
       "    }\n",
       "\n",
       "    .dataframe tbody tr th {\n",
       "        vertical-align: top;\n",
       "    }\n",
       "\n",
       "    .dataframe thead th {\n",
       "        text-align: right;\n",
       "    }\n",
       "</style>\n",
       "<table border=\"1\" class=\"dataframe\">\n",
       "  <thead>\n",
       "    <tr style=\"text-align: right;\">\n",
       "      <th></th>\n",
       "      <th>price</th>\n",
       "      <th>volume</th>\n",
       "      <th>cost</th>\n",
       "      <th>hour</th>\n",
       "      <th>hour_bin</th>\n",
       "      <th>cost_cum</th>\n",
       "    </tr>\n",
       "    <tr>\n",
       "      <th>datetime</th>\n",
       "      <th></th>\n",
       "      <th></th>\n",
       "      <th></th>\n",
       "      <th></th>\n",
       "      <th></th>\n",
       "      <th></th>\n",
       "    </tr>\n",
       "  </thead>\n",
       "  <tbody>\n",
       "    <tr>\n",
       "      <th>2024-01-01 00:00:00</th>\n",
       "      <td>63.33</td>\n",
       "      <td>8744.9</td>\n",
       "      <td>553814.517</td>\n",
       "      <td>0</td>\n",
       "      <td>0-8</td>\n",
       "      <td>5.538145e+05</td>\n",
       "    </tr>\n",
       "    <tr>\n",
       "      <th>2024-01-01 01:00:00</th>\n",
       "      <td>50.09</td>\n",
       "      <td>8671.4</td>\n",
       "      <td>434350.426</td>\n",
       "      <td>1</td>\n",
       "      <td>0-8</td>\n",
       "      <td>9.881649e+05</td>\n",
       "    </tr>\n",
       "    <tr>\n",
       "      <th>...</th>\n",
       "      <td>...</td>\n",
       "      <td>...</td>\n",
       "      <td>...</td>\n",
       "      <td>...</td>\n",
       "      <td>...</td>\n",
       "      <td>...</td>\n",
       "    </tr>\n",
       "    <tr>\n",
       "      <th>2024-01-31 22:00:00</th>\n",
       "      <td>85.00</td>\n",
       "      <td>12171.6</td>\n",
       "      <td>1034586.000</td>\n",
       "      <td>22</td>\n",
       "      <td>16-24</td>\n",
       "      <td>3.476984e+08</td>\n",
       "    </tr>\n",
       "    <tr>\n",
       "      <th>2024-01-31 23:00:00</th>\n",
       "      <td>77.52</td>\n",
       "      <td>10826.8</td>\n",
       "      <td>839293.536</td>\n",
       "      <td>23</td>\n",
       "      <td>16-24</td>\n",
       "      <td>3.485377e+08</td>\n",
       "    </tr>\n",
       "  </tbody>\n",
       "</table>\n",
       "<p>744 rows × 6 columns</p>\n",
       "</div>"
      ],
      "text/plain": [
       "                     price   volume         cost  hour hour_bin      cost_cum\n",
       "datetime                                                                     \n",
       "2024-01-01 00:00:00  63.33   8744.9   553814.517     0      0-8  5.538145e+05\n",
       "2024-01-01 01:00:00  50.09   8671.4   434350.426     1      0-8  9.881649e+05\n",
       "...                    ...      ...          ...   ...      ...           ...\n",
       "2024-01-31 22:00:00  85.00  12171.6  1034586.000    22    16-24  3.476984e+08\n",
       "2024-01-31 23:00:00  77.52  10826.8   839293.536    23    16-24  3.485377e+08\n",
       "\n",
       "[744 rows x 6 columns]"
      ]
     },
     "execution_count": 12,
     "metadata": {},
     "output_type": "execute_result"
    }
   ],
   "source": [
    "df['cost_cum'] = df.groupby('hour_bin', observed=False)['cost'].cumsum()\n",
    "df"
   ]
  },
  {
   "cell_type": "code",
   "execution_count": 13,
   "metadata": {},
   "outputs": [
    {
     "data": {
      "application/vnd.plotly.v1+json": {
       "config": {
        "plotlyServerURL": "https://plot.ly"
       },
       "data": [
        {
         "fillpattern": {
          "shape": ""
         },
         "hovertemplate": "hour_bin=0-8<br>datetime=%{x}<br>cost_cum=%{y}<extra></extra>",
         "legendgroup": "",
         "line": {
          "color": "#1F77B4"
         },
         "marker": {
          "symbol": "circle"
         },
         "mode": "lines",
         "name": "",
         "orientation": "v",
         "showlegend": false,
         "stackgroup": "1",
         "type": "scatter",
         "x": [
          "2024-01-01T00:00:00",
          "2024-01-01T01:00:00",
          "2024-01-01T02:00:00",
          "2024-01-01T03:00:00",
          "2024-01-01T04:00:00",
          "2024-01-01T05:00:00",
          "2024-01-01T06:00:00",
          "2024-01-01T07:00:00",
          "2024-01-02T00:00:00",
          "2024-01-02T01:00:00",
          "2024-01-02T02:00:00",
          "2024-01-02T03:00:00",
          "2024-01-02T04:00:00",
          "2024-01-02T05:00:00",
          "2024-01-02T06:00:00",
          "2024-01-02T07:00:00",
          "2024-01-03T00:00:00",
          "2024-01-03T01:00:00",
          "2024-01-03T02:00:00",
          "2024-01-03T03:00:00",
          "2024-01-03T04:00:00",
          "2024-01-03T05:00:00",
          "2024-01-03T06:00:00",
          "2024-01-03T07:00:00",
          "2024-01-04T00:00:00",
          "2024-01-04T01:00:00",
          "2024-01-04T02:00:00",
          "2024-01-04T03:00:00",
          "2024-01-04T04:00:00",
          "2024-01-04T05:00:00",
          "2024-01-04T06:00:00",
          "2024-01-04T07:00:00",
          "2024-01-05T00:00:00",
          "2024-01-05T01:00:00",
          "2024-01-05T02:00:00",
          "2024-01-05T03:00:00",
          "2024-01-05T04:00:00",
          "2024-01-05T05:00:00",
          "2024-01-05T06:00:00",
          "2024-01-05T07:00:00",
          "2024-01-06T00:00:00",
          "2024-01-06T01:00:00",
          "2024-01-06T02:00:00",
          "2024-01-06T03:00:00",
          "2024-01-06T04:00:00",
          "2024-01-06T05:00:00",
          "2024-01-06T06:00:00",
          "2024-01-06T07:00:00",
          "2024-01-07T00:00:00",
          "2024-01-07T01:00:00",
          "2024-01-07T02:00:00",
          "2024-01-07T03:00:00",
          "2024-01-07T04:00:00",
          "2024-01-07T05:00:00",
          "2024-01-07T06:00:00",
          "2024-01-07T07:00:00",
          "2024-01-08T00:00:00",
          "2024-01-08T01:00:00",
          "2024-01-08T02:00:00",
          "2024-01-08T03:00:00",
          "2024-01-08T04:00:00",
          "2024-01-08T05:00:00",
          "2024-01-08T06:00:00",
          "2024-01-08T07:00:00",
          "2024-01-09T00:00:00",
          "2024-01-09T01:00:00",
          "2024-01-09T02:00:00",
          "2024-01-09T03:00:00",
          "2024-01-09T04:00:00",
          "2024-01-09T05:00:00",
          "2024-01-09T06:00:00",
          "2024-01-09T07:00:00",
          "2024-01-10T00:00:00",
          "2024-01-10T01:00:00",
          "2024-01-10T02:00:00",
          "2024-01-10T03:00:00",
          "2024-01-10T04:00:00",
          "2024-01-10T05:00:00",
          "2024-01-10T06:00:00",
          "2024-01-10T07:00:00",
          "2024-01-11T00:00:00",
          "2024-01-11T01:00:00",
          "2024-01-11T02:00:00",
          "2024-01-11T03:00:00",
          "2024-01-11T04:00:00",
          "2024-01-11T05:00:00",
          "2024-01-11T06:00:00",
          "2024-01-11T07:00:00",
          "2024-01-12T00:00:00",
          "2024-01-12T01:00:00",
          "2024-01-12T02:00:00",
          "2024-01-12T03:00:00",
          "2024-01-12T04:00:00",
          "2024-01-12T05:00:00",
          "2024-01-12T06:00:00",
          "2024-01-12T07:00:00",
          "2024-01-13T00:00:00",
          "2024-01-13T01:00:00",
          "2024-01-13T02:00:00",
          "2024-01-13T03:00:00",
          "2024-01-13T04:00:00",
          "2024-01-13T05:00:00",
          "2024-01-13T06:00:00",
          "2024-01-13T07:00:00",
          "2024-01-14T00:00:00",
          "2024-01-14T01:00:00",
          "2024-01-14T02:00:00",
          "2024-01-14T03:00:00",
          "2024-01-14T04:00:00",
          "2024-01-14T05:00:00",
          "2024-01-14T06:00:00",
          "2024-01-14T07:00:00",
          "2024-01-15T00:00:00",
          "2024-01-15T01:00:00",
          "2024-01-15T02:00:00",
          "2024-01-15T03:00:00",
          "2024-01-15T04:00:00",
          "2024-01-15T05:00:00",
          "2024-01-15T06:00:00",
          "2024-01-15T07:00:00",
          "2024-01-16T00:00:00",
          "2024-01-16T01:00:00",
          "2024-01-16T02:00:00",
          "2024-01-16T03:00:00",
          "2024-01-16T04:00:00",
          "2024-01-16T05:00:00",
          "2024-01-16T06:00:00",
          "2024-01-16T07:00:00",
          "2024-01-17T00:00:00",
          "2024-01-17T01:00:00",
          "2024-01-17T02:00:00",
          "2024-01-17T03:00:00",
          "2024-01-17T04:00:00",
          "2024-01-17T05:00:00",
          "2024-01-17T06:00:00",
          "2024-01-17T07:00:00",
          "2024-01-18T00:00:00",
          "2024-01-18T01:00:00",
          "2024-01-18T02:00:00",
          "2024-01-18T03:00:00",
          "2024-01-18T04:00:00",
          "2024-01-18T05:00:00",
          "2024-01-18T06:00:00",
          "2024-01-18T07:00:00",
          "2024-01-19T00:00:00",
          "2024-01-19T01:00:00",
          "2024-01-19T02:00:00",
          "2024-01-19T03:00:00",
          "2024-01-19T04:00:00",
          "2024-01-19T05:00:00",
          "2024-01-19T06:00:00",
          "2024-01-19T07:00:00",
          "2024-01-20T00:00:00",
          "2024-01-20T01:00:00",
          "2024-01-20T02:00:00",
          "2024-01-20T03:00:00",
          "2024-01-20T04:00:00",
          "2024-01-20T05:00:00",
          "2024-01-20T06:00:00",
          "2024-01-20T07:00:00",
          "2024-01-21T00:00:00",
          "2024-01-21T01:00:00",
          "2024-01-21T02:00:00",
          "2024-01-21T03:00:00",
          "2024-01-21T04:00:00",
          "2024-01-21T05:00:00",
          "2024-01-21T06:00:00",
          "2024-01-21T07:00:00",
          "2024-01-22T00:00:00",
          "2024-01-22T01:00:00",
          "2024-01-22T02:00:00",
          "2024-01-22T03:00:00",
          "2024-01-22T04:00:00",
          "2024-01-22T05:00:00",
          "2024-01-22T06:00:00",
          "2024-01-22T07:00:00",
          "2024-01-23T00:00:00",
          "2024-01-23T01:00:00",
          "2024-01-23T02:00:00",
          "2024-01-23T03:00:00",
          "2024-01-23T04:00:00",
          "2024-01-23T05:00:00",
          "2024-01-23T06:00:00",
          "2024-01-23T07:00:00",
          "2024-01-24T00:00:00",
          "2024-01-24T01:00:00",
          "2024-01-24T02:00:00",
          "2024-01-24T03:00:00",
          "2024-01-24T04:00:00",
          "2024-01-24T05:00:00",
          "2024-01-24T06:00:00",
          "2024-01-24T07:00:00",
          "2024-01-25T00:00:00",
          "2024-01-25T01:00:00",
          "2024-01-25T02:00:00",
          "2024-01-25T03:00:00",
          "2024-01-25T04:00:00",
          "2024-01-25T05:00:00",
          "2024-01-25T06:00:00",
          "2024-01-25T07:00:00",
          "2024-01-26T00:00:00",
          "2024-01-26T01:00:00",
          "2024-01-26T02:00:00",
          "2024-01-26T03:00:00",
          "2024-01-26T04:00:00",
          "2024-01-26T05:00:00",
          "2024-01-26T06:00:00",
          "2024-01-26T07:00:00",
          "2024-01-27T00:00:00",
          "2024-01-27T01:00:00",
          "2024-01-27T02:00:00",
          "2024-01-27T03:00:00",
          "2024-01-27T04:00:00",
          "2024-01-27T05:00:00",
          "2024-01-27T06:00:00",
          "2024-01-27T07:00:00",
          "2024-01-28T00:00:00",
          "2024-01-28T01:00:00",
          "2024-01-28T02:00:00",
          "2024-01-28T03:00:00",
          "2024-01-28T04:00:00",
          "2024-01-28T05:00:00",
          "2024-01-28T06:00:00",
          "2024-01-28T07:00:00",
          "2024-01-29T00:00:00",
          "2024-01-29T01:00:00",
          "2024-01-29T02:00:00",
          "2024-01-29T03:00:00",
          "2024-01-29T04:00:00",
          "2024-01-29T05:00:00",
          "2024-01-29T06:00:00",
          "2024-01-29T07:00:00",
          "2024-01-30T00:00:00",
          "2024-01-30T01:00:00",
          "2024-01-30T02:00:00",
          "2024-01-30T03:00:00",
          "2024-01-30T04:00:00",
          "2024-01-30T05:00:00",
          "2024-01-30T06:00:00",
          "2024-01-30T07:00:00",
          "2024-01-31T00:00:00",
          "2024-01-31T01:00:00",
          "2024-01-31T02:00:00",
          "2024-01-31T03:00:00",
          "2024-01-31T04:00:00",
          "2024-01-31T05:00:00",
          "2024-01-31T06:00:00",
          "2024-01-31T07:00:00"
         ],
         "xaxis": "x",
         "y": [
          553814.517,
          988164.943,
          1381469.693,
          1738591.643,
          2082922.393,
          2426625.124,
          2775511.874,
          3132752.535,
          3572793.675,
          3884371.175,
          3934371.86,
          4115762.86,
          4245857.86,
          4431603.452,
          4862456.477,
          5371057.547,
          5493626.867000001,
          5548483.507,
          5600656.627,
          5650916.467,
          5700986.867000001,
          5732518.042,
          5802330.898,
          6442589.386,
          7510113.364,
          8465921.464,
          9316075.275,
          10042626.725,
          10722445.833,
          11403661.855,
          12287559.803,
          13338378.689,
          14254924.097,
          15103443.14,
          15949328.681,
          16754415.455,
          17491079.825,
          18387313.147,
          19437635.647,
          20629713.979000002,
          21558659.479000002,
          22384611.979000002,
          23190705.059,
          23977293.809,
          24408974.667,
          24838112.585,
          25376836.808000002,
          26139517.808000002,
          27341567.528,
          28511313.664,
          29652189.868,
          30725793.076,
          31772714.23,
          32830754.926,
          33914924.936,
          35021036.311,
          36263194.033,
          37508300.413,
          38737210.256,
          39926490.153,
          41104100.917,
          42303040.057000004,
          43756504.817,
          45615072.448,
          47027135.664,
          48333625.664,
          49579316.372,
          50803200.434,
          51984418.139,
          53118282.413,
          54391912.187,
          56111712.599,
          57334983.536,
          58453787.288,
          59532972.318,
          60587042.478,
          61634242.478,
          62698606.268,
          63915565.768,
          65486005.622,
          66974750.297,
          68399934.811,
          69775610.621,
          71124914.621,
          72471173.501,
          73828746.951,
          75190824.228,
          76971688.573,
          78150468.919,
          79253415.309,
          80295086.745,
          81249877.245,
          82194838.171,
          83170051.671,
          84367662.371,
          85995611.11,
          87010226.11,
          88007655.574,
          88944858.174,
          89706440.912,
          90431090.912,
          91161815.912,
          91938872.942,
          92756685.392,
          93774327.122,
          94819317.008,
          95853829.73,
          96800179.411,
          97718428.229,
          98636640.541,
          99552560.231,
          100520234.686,
          101886519.256,
          103074911.656,
          104221497.731,
          105307861.559,
          106388339.459,
          107503899.569,
          108647558.637,
          109985696.617,
          111209005.501,
          112350143.187,
          113470239.471,
          114566919.341,
          115666890.661,
          116785801.801,
          117962960.301,
          119539933.901,
          119914793.903,
          120225827.153,
          120341096.753,
          120434778.873,
          120529569.373,
          120626475.873,
          120945237.123,
          121767631.163,
          121832838.523,
          121895422.203,
          121927070.547,
          121934961.09,
          121953047.697,
          122011852.817,
          122074846.417,
          122715052.347,
          123692615.913,
          124635561.993,
          125609325.483,
          126512757.483,
          127367645.853,
          128179990.853,
          129182176.853,
          130474750.373,
          131713484.873,
          132768573.961,
          133770946.108,
          134716272.115,
          135604149.619,
          136448934.05900002,
          137275472.249,
          138078394.034,
          138922291.294,
          139634070.27,
          140350919.67,
          141047430.315,
          141735981.315,
          142380976.065,
          143009272.815,
          143645015.515,
          144271234.115,
          144863933.035,
          145375234.035,
          145744049.035,
          146159889.695,
          146744589.695,
          147397525.42,
          148367357.92,
          149250888.36,
          150098806.86,
          150921047.76,
          151731400.184,
          152526099.284,
          153319862.384,
          154147050.944,
          155313746.834,
          156300407.634,
          157168535.025,
          157963418.155,
          158711230.883,
          159455554.645,
          160189122.57,
          161005240.257,
          162095092.173,
          162922543.596,
          163700547.792,
          164480925.792,
          165180654.048,
          165900458.056,
          166674026.41,
          167580020.905,
          168692516.455,
          169438729.89,
          170085869.89,
          170699813.544,
          171297760.268,
          171878980.468,
          172451791.896,
          173131650.807,
          173967395.69099998,
          174688673.14,
          175321761.538,
          175963068.158,
          176564770.168,
          177183711.738,
          177804171.086,
          178417413.31,
          179074944.77,
          179888890.024,
          180678285.724,
          181419335.374,
          182068387.896,
          182674065.496,
          183255524.536,
          183877073.856,
          184552444.156,
          185202913.64,
          185829382.748,
          186478035.536,
          187116362.732,
          187792509.478,
          188538046.27,
          189480227.664,
          190557294.024,
          191471054.322,
          192327104.946,
          193131748.387,
          193834164.367,
          194543949.967,
          195318001.238,
          196223641.556,
          197195803.092,
          198096218.862,
          198955630.05,
          199773601.404,
          200553113.776,
          201328533.726,
          202150111.335,
          203036984.655,
          204254251.233
         ],
         "yaxis": "y"
        },
        {
         "fillpattern": {
          "shape": ""
         },
         "hovertemplate": "hour_bin=8-16<br>datetime=%{x}<br>cost_cum=%{y}<extra></extra>",
         "legendgroup": "",
         "line": {
          "color": "#1F77B4"
         },
         "marker": {
          "symbol": "circle"
         },
         "mode": "lines",
         "name": "",
         "orientation": "v",
         "showlegend": false,
         "stackgroup": "1",
         "type": "scatter",
         "x": [
          "2024-01-01T08:00:00",
          "2024-01-01T09:00:00",
          "2024-01-01T10:00:00",
          "2024-01-01T11:00:00",
          "2024-01-01T12:00:00",
          "2024-01-01T13:00:00",
          "2024-01-01T14:00:00",
          "2024-01-01T15:00:00",
          "2024-01-02T08:00:00",
          "2024-01-02T09:00:00",
          "2024-01-02T10:00:00",
          "2024-01-02T11:00:00",
          "2024-01-02T12:00:00",
          "2024-01-02T13:00:00",
          "2024-01-02T14:00:00",
          "2024-01-02T15:00:00",
          "2024-01-03T08:00:00",
          "2024-01-03T09:00:00",
          "2024-01-03T10:00:00",
          "2024-01-03T11:00:00",
          "2024-01-03T12:00:00",
          "2024-01-03T13:00:00",
          "2024-01-03T14:00:00",
          "2024-01-03T15:00:00",
          "2024-01-04T08:00:00",
          "2024-01-04T09:00:00",
          "2024-01-04T10:00:00",
          "2024-01-04T11:00:00",
          "2024-01-04T12:00:00",
          "2024-01-04T13:00:00",
          "2024-01-04T14:00:00",
          "2024-01-04T15:00:00",
          "2024-01-05T08:00:00",
          "2024-01-05T09:00:00",
          "2024-01-05T10:00:00",
          "2024-01-05T11:00:00",
          "2024-01-05T12:00:00",
          "2024-01-05T13:00:00",
          "2024-01-05T14:00:00",
          "2024-01-05T15:00:00",
          "2024-01-06T08:00:00",
          "2024-01-06T09:00:00",
          "2024-01-06T10:00:00",
          "2024-01-06T11:00:00",
          "2024-01-06T12:00:00",
          "2024-01-06T13:00:00",
          "2024-01-06T14:00:00",
          "2024-01-06T15:00:00",
          "2024-01-07T08:00:00",
          "2024-01-07T09:00:00",
          "2024-01-07T10:00:00",
          "2024-01-07T11:00:00",
          "2024-01-07T12:00:00",
          "2024-01-07T13:00:00",
          "2024-01-07T14:00:00",
          "2024-01-07T15:00:00",
          "2024-01-08T08:00:00",
          "2024-01-08T09:00:00",
          "2024-01-08T10:00:00",
          "2024-01-08T11:00:00",
          "2024-01-08T12:00:00",
          "2024-01-08T13:00:00",
          "2024-01-08T14:00:00",
          "2024-01-08T15:00:00",
          "2024-01-09T08:00:00",
          "2024-01-09T09:00:00",
          "2024-01-09T10:00:00",
          "2024-01-09T11:00:00",
          "2024-01-09T12:00:00",
          "2024-01-09T13:00:00",
          "2024-01-09T14:00:00",
          "2024-01-09T15:00:00",
          "2024-01-10T08:00:00",
          "2024-01-10T09:00:00",
          "2024-01-10T10:00:00",
          "2024-01-10T11:00:00",
          "2024-01-10T12:00:00",
          "2024-01-10T13:00:00",
          "2024-01-10T14:00:00",
          "2024-01-10T15:00:00",
          "2024-01-11T08:00:00",
          "2024-01-11T09:00:00",
          "2024-01-11T10:00:00",
          "2024-01-11T11:00:00",
          "2024-01-11T12:00:00",
          "2024-01-11T13:00:00",
          "2024-01-11T14:00:00",
          "2024-01-11T15:00:00",
          "2024-01-12T08:00:00",
          "2024-01-12T09:00:00",
          "2024-01-12T10:00:00",
          "2024-01-12T11:00:00",
          "2024-01-12T12:00:00",
          "2024-01-12T13:00:00",
          "2024-01-12T14:00:00",
          "2024-01-12T15:00:00",
          "2024-01-13T08:00:00",
          "2024-01-13T09:00:00",
          "2024-01-13T10:00:00",
          "2024-01-13T11:00:00",
          "2024-01-13T12:00:00",
          "2024-01-13T13:00:00",
          "2024-01-13T14:00:00",
          "2024-01-13T15:00:00",
          "2024-01-14T08:00:00",
          "2024-01-14T09:00:00",
          "2024-01-14T10:00:00",
          "2024-01-14T11:00:00",
          "2024-01-14T12:00:00",
          "2024-01-14T13:00:00",
          "2024-01-14T14:00:00",
          "2024-01-14T15:00:00",
          "2024-01-15T08:00:00",
          "2024-01-15T09:00:00",
          "2024-01-15T10:00:00",
          "2024-01-15T11:00:00",
          "2024-01-15T12:00:00",
          "2024-01-15T13:00:00",
          "2024-01-15T14:00:00",
          "2024-01-15T15:00:00",
          "2024-01-16T08:00:00",
          "2024-01-16T09:00:00",
          "2024-01-16T10:00:00",
          "2024-01-16T11:00:00",
          "2024-01-16T12:00:00",
          "2024-01-16T13:00:00",
          "2024-01-16T14:00:00",
          "2024-01-16T15:00:00",
          "2024-01-17T08:00:00",
          "2024-01-17T09:00:00",
          "2024-01-17T10:00:00",
          "2024-01-17T11:00:00",
          "2024-01-17T12:00:00",
          "2024-01-17T13:00:00",
          "2024-01-17T14:00:00",
          "2024-01-17T15:00:00",
          "2024-01-18T08:00:00",
          "2024-01-18T09:00:00",
          "2024-01-18T10:00:00",
          "2024-01-18T11:00:00",
          "2024-01-18T12:00:00",
          "2024-01-18T13:00:00",
          "2024-01-18T14:00:00",
          "2024-01-18T15:00:00",
          "2024-01-19T08:00:00",
          "2024-01-19T09:00:00",
          "2024-01-19T10:00:00",
          "2024-01-19T11:00:00",
          "2024-01-19T12:00:00",
          "2024-01-19T13:00:00",
          "2024-01-19T14:00:00",
          "2024-01-19T15:00:00",
          "2024-01-20T08:00:00",
          "2024-01-20T09:00:00",
          "2024-01-20T10:00:00",
          "2024-01-20T11:00:00",
          "2024-01-20T12:00:00",
          "2024-01-20T13:00:00",
          "2024-01-20T14:00:00",
          "2024-01-20T15:00:00",
          "2024-01-21T08:00:00",
          "2024-01-21T09:00:00",
          "2024-01-21T10:00:00",
          "2024-01-21T11:00:00",
          "2024-01-21T12:00:00",
          "2024-01-21T13:00:00",
          "2024-01-21T14:00:00",
          "2024-01-21T15:00:00",
          "2024-01-22T08:00:00",
          "2024-01-22T09:00:00",
          "2024-01-22T10:00:00",
          "2024-01-22T11:00:00",
          "2024-01-22T12:00:00",
          "2024-01-22T13:00:00",
          "2024-01-22T14:00:00",
          "2024-01-22T15:00:00",
          "2024-01-23T08:00:00",
          "2024-01-23T09:00:00",
          "2024-01-23T10:00:00",
          "2024-01-23T11:00:00",
          "2024-01-23T12:00:00",
          "2024-01-23T13:00:00",
          "2024-01-23T14:00:00",
          "2024-01-23T15:00:00",
          "2024-01-24T08:00:00",
          "2024-01-24T09:00:00",
          "2024-01-24T10:00:00",
          "2024-01-24T11:00:00",
          "2024-01-24T12:00:00",
          "2024-01-24T13:00:00",
          "2024-01-24T14:00:00",
          "2024-01-24T15:00:00",
          "2024-01-25T08:00:00",
          "2024-01-25T09:00:00",
          "2024-01-25T10:00:00",
          "2024-01-25T11:00:00",
          "2024-01-25T12:00:00",
          "2024-01-25T13:00:00",
          "2024-01-25T14:00:00",
          "2024-01-25T15:00:00",
          "2024-01-26T08:00:00",
          "2024-01-26T09:00:00",
          "2024-01-26T10:00:00",
          "2024-01-26T11:00:00",
          "2024-01-26T12:00:00",
          "2024-01-26T13:00:00",
          "2024-01-26T14:00:00",
          "2024-01-26T15:00:00",
          "2024-01-27T08:00:00",
          "2024-01-27T09:00:00",
          "2024-01-27T10:00:00",
          "2024-01-27T11:00:00",
          "2024-01-27T12:00:00",
          "2024-01-27T13:00:00",
          "2024-01-27T14:00:00",
          "2024-01-27T15:00:00",
          "2024-01-28T08:00:00",
          "2024-01-28T09:00:00",
          "2024-01-28T10:00:00",
          "2024-01-28T11:00:00",
          "2024-01-28T12:00:00",
          "2024-01-28T13:00:00",
          "2024-01-28T14:00:00",
          "2024-01-28T15:00:00",
          "2024-01-29T08:00:00",
          "2024-01-29T09:00:00",
          "2024-01-29T10:00:00",
          "2024-01-29T11:00:00",
          "2024-01-29T12:00:00",
          "2024-01-29T13:00:00",
          "2024-01-29T14:00:00",
          "2024-01-29T15:00:00",
          "2024-01-30T08:00:00",
          "2024-01-30T09:00:00",
          "2024-01-30T10:00:00",
          "2024-01-30T11:00:00",
          "2024-01-30T12:00:00",
          "2024-01-30T13:00:00",
          "2024-01-30T14:00:00",
          "2024-01-30T15:00:00",
          "2024-01-31T08:00:00",
          "2024-01-31T09:00:00",
          "2024-01-31T10:00:00",
          "2024-01-31T11:00:00",
          "2024-01-31T12:00:00",
          "2024-01-31T13:00:00",
          "2024-01-31T14:00:00",
          "2024-01-31T15:00:00"
         ],
         "xaxis": "x2",
         "y": [
          381335.062,
          865593.6229999999,
          1222313.623,
          1285907.413,
          1341797.653,
          1379024.119,
          1411241.736,
          1532955.9,
          2190039.94,
          2956499.645,
          3793249.645,
          4735308.265,
          5571201.265000001,
          6384266.765000001,
          7203412.465,
          7971134.67,
          8860993.182,
          9896679.182,
          10988360.462000001,
          12019752.052000001,
          13041454.052000001,
          14083366.678,
          15215593.778,
          16368167.237,
          17544311.237,
          18875346.557,
          20267780.557,
          21678650.017,
          23040083.017,
          24383001.713,
          25812254.161000002,
          27317077.017,
          28671089.049,
          30170453.049,
          31636566.477,
          32858921.037,
          34085544.468,
          35327935.059,
          36475591.059,
          37340898.424,
          38115953.504,
          38954564.504,
          39554752.004,
          39658098.404,
          39742611.044,
          39828714.084,
          39914261.284,
          39997454.884,
          41141688.805,
          42502486.793,
          43671777.493,
          45001086.816,
          46266800.276,
          47581649.559,
          48857868.867,
          50011382.277,
          52237205.037,
          54629469.433,
          57026748.66,
          59254896.16,
          61351102.3,
          63372629.728,
          65483349.728,
          67769750.642,
          69917978.612,
          72137496.437,
          74239423.397,
          76275021.65,
          78342176.624,
          80385730.136,
          82384395.119,
          84673531.394,
          86719267.074,
          88903641.554,
          90907347.412,
          92921965.759,
          94887929.143,
          96844355.843,
          98707962.859,
          100528711.351,
          102653341.423,
          104858093.423,
          106931129.791,
          108843679.441,
          110755138.258,
          112633929.2,
          114524702.4,
          116433181.9,
          118430251.66,
          120408714.16,
          122402934.16,
          124400151.646,
          126332455.246,
          128251272.172,
          130115612.362,
          131963173.162,
          132923834.182,
          134121318.973,
          135488615.197,
          136845895.854,
          138075858.05,
          139244265.61,
          140370804.653,
          141546148.133,
          142561660.323,
          143692130.538,
          144866107.958,
          146059186.958,
          147319019.438,
          148589689.118,
          149842482.828,
          151085199.618,
          152679062.178,
          154361275.222,
          156006523.582,
          157622568.502,
          159200562.602,
          160753488.401,
          162389936.855,
          164150202.535,
          166364943.686,
          168515444.606,
          170352462.158,
          172086806.015,
          173824604.015,
          175551447.287,
          177266298.287,
          178883738.287,
          179744361.687,
          180659589.637,
          181618484.357,
          182419369.069,
          182843440.899,
          183165965.712,
          183292747.632,
          183416426.632,
          184261250.326,
          185312447.902,
          186241198.168,
          187181913.992,
          188073670.685,
          188883182.185,
          189692529.995,
          190664761.915,
          192246573.643,
          194013731.125,
          195670845.325,
          197280406.525,
          198983560.599,
          200555193.303,
          201923894.003,
          203262147.325,
          204035708.053,
          204951694.697,
          206027452.237,
          207095821.501,
          208179082.581,
          209199850.053,
          210330525.555,
          211569742.242,
          212191735.172,
          212922869.072,
          213823790.576,
          214831905.376,
          215886508.06,
          216769155.488,
          217766856.963,
          218804672.713,
          220010958.911,
          221382526.731,
          222730231.963,
          224007343.744,
          225238315.661,
          226507232.245,
          227813068.789,
          229092271.553,
          230466163.553,
          231869554.703,
          233339866.703,
          234664288.848,
          235910951.945,
          237159619.642,
          238430892.853,
          239688294.453,
          241038904.203,
          242306905.083,
          243431257.809,
          244544665.149,
          245665575.237,
          246755870.757,
          247842610.257,
          248959851.657,
          250303758.144,
          251734774.584,
          253188773.133,
          254545460.322,
          255908647.868,
          257250297.859,
          258570246.359,
          259819183.409,
          261197872.409,
          262226441.669,
          263310898.629,
          264358239.559,
          265343704.819,
          266256948.709,
          267232382.659,
          268237083.683,
          269088077.267,
          270068312.247,
          271000136.517,
          271920540.997,
          272760576.697,
          273619982.827,
          274477448.077,
          275321539.877,
          276037445.855,
          276857256.715,
          277615982.515,
          278349881.215,
          279212422.615,
          280021264.66,
          280819540.749,
          281557805.73,
          283051589.322,
          284326367.58,
          285631862.76,
          286855354.85,
          288106237.938,
          289421650.234,
          290816303.833,
          292181529.721,
          293392514.671,
          294523634.811,
          295757610.486,
          297034545.076,
          298317617.176,
          299632115.887,
          301047130.04,
          302458443.68,
          304116920.346,
          305597058.472,
          306985330.468,
          308368707.438,
          309766422.083,
          311073486.233,
          312367995.953,
          313657357.373
         ],
         "yaxis": "y2"
        },
        {
         "fillpattern": {
          "shape": ""
         },
         "hovertemplate": "hour_bin=16-24<br>datetime=%{x}<br>cost_cum=%{y}<extra></extra>",
         "legendgroup": "",
         "line": {
          "color": "#1F77B4"
         },
         "marker": {
          "symbol": "circle"
         },
         "mode": "lines",
         "name": "",
         "orientation": "v",
         "showlegend": false,
         "stackgroup": "1",
         "type": "scatter",
         "x": [
          "2024-01-01T16:00:00",
          "2024-01-01T17:00:00",
          "2024-01-01T18:00:00",
          "2024-01-01T19:00:00",
          "2024-01-01T20:00:00",
          "2024-01-01T21:00:00",
          "2024-01-01T22:00:00",
          "2024-01-01T23:00:00",
          "2024-01-02T16:00:00",
          "2024-01-02T17:00:00",
          "2024-01-02T18:00:00",
          "2024-01-02T19:00:00",
          "2024-01-02T20:00:00",
          "2024-01-02T21:00:00",
          "2024-01-02T22:00:00",
          "2024-01-02T23:00:00",
          "2024-01-03T16:00:00",
          "2024-01-03T17:00:00",
          "2024-01-03T18:00:00",
          "2024-01-03T19:00:00",
          "2024-01-03T20:00:00",
          "2024-01-03T21:00:00",
          "2024-01-03T22:00:00",
          "2024-01-03T23:00:00",
          "2024-01-04T16:00:00",
          "2024-01-04T17:00:00",
          "2024-01-04T18:00:00",
          "2024-01-04T19:00:00",
          "2024-01-04T20:00:00",
          "2024-01-04T21:00:00",
          "2024-01-04T22:00:00",
          "2024-01-04T23:00:00",
          "2024-01-05T16:00:00",
          "2024-01-05T17:00:00",
          "2024-01-05T18:00:00",
          "2024-01-05T19:00:00",
          "2024-01-05T20:00:00",
          "2024-01-05T21:00:00",
          "2024-01-05T22:00:00",
          "2024-01-05T23:00:00",
          "2024-01-06T16:00:00",
          "2024-01-06T17:00:00",
          "2024-01-06T18:00:00",
          "2024-01-06T19:00:00",
          "2024-01-06T20:00:00",
          "2024-01-06T21:00:00",
          "2024-01-06T22:00:00",
          "2024-01-06T23:00:00",
          "2024-01-07T16:00:00",
          "2024-01-07T17:00:00",
          "2024-01-07T18:00:00",
          "2024-01-07T19:00:00",
          "2024-01-07T20:00:00",
          "2024-01-07T21:00:00",
          "2024-01-07T22:00:00",
          "2024-01-07T23:00:00",
          "2024-01-08T16:00:00",
          "2024-01-08T17:00:00",
          "2024-01-08T18:00:00",
          "2024-01-08T19:00:00",
          "2024-01-08T20:00:00",
          "2024-01-08T21:00:00",
          "2024-01-08T22:00:00",
          "2024-01-08T23:00:00",
          "2024-01-09T16:00:00",
          "2024-01-09T17:00:00",
          "2024-01-09T18:00:00",
          "2024-01-09T19:00:00",
          "2024-01-09T20:00:00",
          "2024-01-09T21:00:00",
          "2024-01-09T22:00:00",
          "2024-01-09T23:00:00",
          "2024-01-10T16:00:00",
          "2024-01-10T17:00:00",
          "2024-01-10T18:00:00",
          "2024-01-10T19:00:00",
          "2024-01-10T20:00:00",
          "2024-01-10T21:00:00",
          "2024-01-10T22:00:00",
          "2024-01-10T23:00:00",
          "2024-01-11T16:00:00",
          "2024-01-11T17:00:00",
          "2024-01-11T18:00:00",
          "2024-01-11T19:00:00",
          "2024-01-11T20:00:00",
          "2024-01-11T21:00:00",
          "2024-01-11T22:00:00",
          "2024-01-11T23:00:00",
          "2024-01-12T16:00:00",
          "2024-01-12T17:00:00",
          "2024-01-12T18:00:00",
          "2024-01-12T19:00:00",
          "2024-01-12T20:00:00",
          "2024-01-12T21:00:00",
          "2024-01-12T22:00:00",
          "2024-01-12T23:00:00",
          "2024-01-13T16:00:00",
          "2024-01-13T17:00:00",
          "2024-01-13T18:00:00",
          "2024-01-13T19:00:00",
          "2024-01-13T20:00:00",
          "2024-01-13T21:00:00",
          "2024-01-13T22:00:00",
          "2024-01-13T23:00:00",
          "2024-01-14T16:00:00",
          "2024-01-14T17:00:00",
          "2024-01-14T18:00:00",
          "2024-01-14T19:00:00",
          "2024-01-14T20:00:00",
          "2024-01-14T21:00:00",
          "2024-01-14T22:00:00",
          "2024-01-14T23:00:00",
          "2024-01-15T16:00:00",
          "2024-01-15T17:00:00",
          "2024-01-15T18:00:00",
          "2024-01-15T19:00:00",
          "2024-01-15T20:00:00",
          "2024-01-15T21:00:00",
          "2024-01-15T22:00:00",
          "2024-01-15T23:00:00",
          "2024-01-16T16:00:00",
          "2024-01-16T17:00:00",
          "2024-01-16T18:00:00",
          "2024-01-16T19:00:00",
          "2024-01-16T20:00:00",
          "2024-01-16T21:00:00",
          "2024-01-16T22:00:00",
          "2024-01-16T23:00:00",
          "2024-01-17T16:00:00",
          "2024-01-17T17:00:00",
          "2024-01-17T18:00:00",
          "2024-01-17T19:00:00",
          "2024-01-17T20:00:00",
          "2024-01-17T21:00:00",
          "2024-01-17T22:00:00",
          "2024-01-17T23:00:00",
          "2024-01-18T16:00:00",
          "2024-01-18T17:00:00",
          "2024-01-18T18:00:00",
          "2024-01-18T19:00:00",
          "2024-01-18T20:00:00",
          "2024-01-18T21:00:00",
          "2024-01-18T22:00:00",
          "2024-01-18T23:00:00",
          "2024-01-19T16:00:00",
          "2024-01-19T17:00:00",
          "2024-01-19T18:00:00",
          "2024-01-19T19:00:00",
          "2024-01-19T20:00:00",
          "2024-01-19T21:00:00",
          "2024-01-19T22:00:00",
          "2024-01-19T23:00:00",
          "2024-01-20T16:00:00",
          "2024-01-20T17:00:00",
          "2024-01-20T18:00:00",
          "2024-01-20T19:00:00",
          "2024-01-20T20:00:00",
          "2024-01-20T21:00:00",
          "2024-01-20T22:00:00",
          "2024-01-20T23:00:00",
          "2024-01-21T16:00:00",
          "2024-01-21T17:00:00",
          "2024-01-21T18:00:00",
          "2024-01-21T19:00:00",
          "2024-01-21T20:00:00",
          "2024-01-21T21:00:00",
          "2024-01-21T22:00:00",
          "2024-01-21T23:00:00",
          "2024-01-22T16:00:00",
          "2024-01-22T17:00:00",
          "2024-01-22T18:00:00",
          "2024-01-22T19:00:00",
          "2024-01-22T20:00:00",
          "2024-01-22T21:00:00",
          "2024-01-22T22:00:00",
          "2024-01-22T23:00:00",
          "2024-01-23T16:00:00",
          "2024-01-23T17:00:00",
          "2024-01-23T18:00:00",
          "2024-01-23T19:00:00",
          "2024-01-23T20:00:00",
          "2024-01-23T21:00:00",
          "2024-01-23T22:00:00",
          "2024-01-23T23:00:00",
          "2024-01-24T16:00:00",
          "2024-01-24T17:00:00",
          "2024-01-24T18:00:00",
          "2024-01-24T19:00:00",
          "2024-01-24T20:00:00",
          "2024-01-24T21:00:00",
          "2024-01-24T22:00:00",
          "2024-01-24T23:00:00",
          "2024-01-25T16:00:00",
          "2024-01-25T17:00:00",
          "2024-01-25T18:00:00",
          "2024-01-25T19:00:00",
          "2024-01-25T20:00:00",
          "2024-01-25T21:00:00",
          "2024-01-25T22:00:00",
          "2024-01-25T23:00:00",
          "2024-01-26T16:00:00",
          "2024-01-26T17:00:00",
          "2024-01-26T18:00:00",
          "2024-01-26T19:00:00",
          "2024-01-26T20:00:00",
          "2024-01-26T21:00:00",
          "2024-01-26T22:00:00",
          "2024-01-26T23:00:00",
          "2024-01-27T16:00:00",
          "2024-01-27T17:00:00",
          "2024-01-27T18:00:00",
          "2024-01-27T19:00:00",
          "2024-01-27T20:00:00",
          "2024-01-27T21:00:00",
          "2024-01-27T22:00:00",
          "2024-01-27T23:00:00",
          "2024-01-28T16:00:00",
          "2024-01-28T17:00:00",
          "2024-01-28T18:00:00",
          "2024-01-28T19:00:00",
          "2024-01-28T20:00:00",
          "2024-01-28T21:00:00",
          "2024-01-28T22:00:00",
          "2024-01-28T23:00:00",
          "2024-01-29T16:00:00",
          "2024-01-29T17:00:00",
          "2024-01-29T18:00:00",
          "2024-01-29T19:00:00",
          "2024-01-29T20:00:00",
          "2024-01-29T21:00:00",
          "2024-01-29T22:00:00",
          "2024-01-29T23:00:00",
          "2024-01-30T16:00:00",
          "2024-01-30T17:00:00",
          "2024-01-30T18:00:00",
          "2024-01-30T19:00:00",
          "2024-01-30T20:00:00",
          "2024-01-30T21:00:00",
          "2024-01-30T22:00:00",
          "2024-01-30T23:00:00",
          "2024-01-31T16:00:00",
          "2024-01-31T17:00:00",
          "2024-01-31T18:00:00",
          "2024-01-31T19:00:00",
          "2024-01-31T20:00:00",
          "2024-01-31T21:00:00",
          "2024-01-31T22:00:00",
          "2024-01-31T23:00:00"
         ],
         "xaxis": "x3",
         "y": [
          347717.393,
          891887.493,
          1448777.4929999998,
          2069839.5469999998,
          2747833.1569999997,
          3422941.1569999997,
          3952798.9069999997,
          4415793.115999999,
          5171106.75,
          5993575.17,
          6899044.819,
          7895521.999,
          8801771.999,
          9610430.243,
          10275963.611,
          10846546.511,
          11878488.431,
          13169613.11,
          14532997.97,
          16039718.055,
          17711537.589,
          19329264.147,
          20536484.247,
          21513513.573,
          22920393.823,
          24154263.823,
          25520732.134,
          26956264.934,
          28457330.786,
          29851738.118,
          31006981.728,
          31956492.522,
          33131596.476,
          34463228.176,
          35926048.092,
          37468971.362,
          39051263.752,
          40566103.442,
          41971978.442,
          43165412.442,
          43769549.942,
          45098767.442,
          46638740.842,
          48291563.027,
          49922155.393,
          51406961.793,
          52854013.971,
          54207027.745,
          55414593.745,
          56992100.62,
          58747855.81,
          60453034.37,
          62045537.269999996,
          63442338.133,
          64710011.398,
          65889485.526,
          68264335.701,
          70743027.14299999,
          73114850.681,
          75435376.681,
          77854248.745,
          80028800.971,
          81813644.309,
          83218798.847,
          85613382.416,
          88113949.046,
          90630762.346,
          93199475.416,
          95928528.199,
          98287586.199,
          100167762.637,
          101766437.119,
          103633718.663,
          105554845.403,
          107720359.61,
          110133257.45,
          112529417.45,
          114633704.63599999,
          116419358.184,
          117940607.704,
          120018759.884,
          122516526.58399999,
          125157090.342,
          127886830.876,
          130116757.453,
          132080325.367,
          133767575.367,
          135100251.44099998,
          137125324.557,
          139114632.087,
          141489114.687,
          143730312.152,
          145627251.152,
          147220717.602,
          148621029.802,
          149786466.15399998,
          151018135.015,
          152331079.615,
          153772270.959,
          155188383.159,
          156553113.159,
          157760109.614,
          158875137.806,
          159881040.806,
          161112408.125,
          162359057.44099998,
          163747693.017,
          165247640.037,
          166607103.303,
          167942856.407,
          169238590.6,
          170377930.564,
          172206013.27,
          174117773.27,
          176285971.605,
          178404819.135,
          180309060.44099998,
          182032670.44099998,
          183472632.45,
          184741445.45,
          186304035.322,
          187847687.322,
          189418302.79,
          191208714.88099998,
          193056011.86699998,
          194600359.49199998,
          195945253.309,
          197064793.309,
          197504942.845,
          198452781.745,
          199406336.105,
          200435943.465,
          201579900.601,
          202558282.681,
          203453370.089,
          203831605.232,
          205053960.687,
          206863131.119,
          208822824.908,
          210613543.268,
          212502036.652,
          214159464.844,
          215428582.776,
          216381743.944,
          217745901.84399998,
          219183178.606,
          220802411.956,
          222614901.156,
          224370647.652,
          225976212.102,
          227395444.182,
          228538736.682,
          229803023.928,
          231055000.758,
          232337800.616,
          233629920.822,
          234966798.214,
          236262503.3,
          237358872.182,
          238250375.144,
          239257026.627,
          240206698.266,
          241158418.412,
          242267041.9,
          243411383.812,
          244555548.412,
          245473167.517,
          246211971.677,
          247467638.634,
          248756236.186,
          250228808.552,
          251943908.70499998,
          253934743.005,
          255551279.951,
          256840299.65,
          257829697.922,
          259031482.75,
          260323310.35,
          261785662.072,
          263698112.072,
          265859752.028,
          267566033.052,
          268858276.552,
          269887371.724,
          270947461.324,
          272179441.598,
          273535526.582,
          275841988.727,
          278222049.263,
          279799556.063,
          281003062.863,
          281932606.969,
          283162881.404,
          284378754.113,
          285722234.177,
          287345433.977,
          289299612.761,
          290708006.685,
          291763837.535,
          292647393.533,
          293756074.52099997,
          294913173.105,
          296080491.529,
          297365298.569,
          298859778.74,
          300022911.14,
          300921074.066,
          301711248.311,
          302579196.551,
          303549488.36,
          304723786.877,
          305790704.707,
          306867957.473,
          307895506.973,
          308666397.354,
          309425639.804,
          310166333.604,
          311036168.804,
          311996843.364,
          312971547.549,
          313878453.162,
          314678473.388,
          315470152.29,
          316223212.29,
          317505907.298,
          318745642.816,
          320390131.816,
          321940193.896,
          323465606.246,
          324699241.968,
          325700203.068,
          326547182.278,
          327985749.317,
          329373815.78,
          330833663.716,
          332369884.116,
          334138719.538,
          335474502.658,
          336542814.328,
          337432004.188,
          338666335.224,
          339876859.924,
          341090108.324,
          342831933.136,
          345314944.121,
          346663784.117,
          347698370.117,
          348537663.653
         ],
         "yaxis": "y3"
        }
       ],
       "layout": {
        "annotations": [
         {
          "font": {},
          "showarrow": false,
          "text": "hour_bin=0-8",
          "x": 0.15999999999999998,
          "xanchor": "center",
          "xref": "paper",
          "y": 1,
          "yanchor": "bottom",
          "yref": "paper"
         },
         {
          "font": {},
          "showarrow": false,
          "text": "hour_bin=8-16",
          "x": 0.49999999999999994,
          "xanchor": "center",
          "xref": "paper",
          "y": 1,
          "yanchor": "bottom",
          "yref": "paper"
         },
         {
          "font": {},
          "showarrow": false,
          "text": "hour_bin=16-24",
          "x": 0.8399999999999999,
          "xanchor": "center",
          "xref": "paper",
          "y": 1,
          "yanchor": "bottom",
          "yref": "paper"
         }
        ],
        "legend": {
         "tracegroupgap": 0
        },
        "margin": {
         "t": 60
        },
        "template": {
         "data": {
          "bar": [
           {
            "error_x": {
             "color": "rgb(36,36,36)"
            },
            "error_y": {
             "color": "rgb(36,36,36)"
            },
            "marker": {
             "line": {
              "color": "white",
              "width": 0.5
             },
             "pattern": {
              "fillmode": "overlay",
              "size": 10,
              "solidity": 0.2
             }
            },
            "type": "bar"
           }
          ],
          "barpolar": [
           {
            "marker": {
             "line": {
              "color": "white",
              "width": 0.5
             },
             "pattern": {
              "fillmode": "overlay",
              "size": 10,
              "solidity": 0.2
             }
            },
            "type": "barpolar"
           }
          ],
          "carpet": [
           {
            "aaxis": {
             "endlinecolor": "rgb(36,36,36)",
             "gridcolor": "white",
             "linecolor": "white",
             "minorgridcolor": "white",
             "startlinecolor": "rgb(36,36,36)"
            },
            "baxis": {
             "endlinecolor": "rgb(36,36,36)",
             "gridcolor": "white",
             "linecolor": "white",
             "minorgridcolor": "white",
             "startlinecolor": "rgb(36,36,36)"
            },
            "type": "carpet"
           }
          ],
          "choropleth": [
           {
            "colorbar": {
             "outlinewidth": 1,
             "tickcolor": "rgb(36,36,36)",
             "ticks": "outside"
            },
            "type": "choropleth"
           }
          ],
          "contour": [
           {
            "colorbar": {
             "outlinewidth": 1,
             "tickcolor": "rgb(36,36,36)",
             "ticks": "outside"
            },
            "colorscale": [
             [
              0,
              "#440154"
             ],
             [
              0.1111111111111111,
              "#482878"
             ],
             [
              0.2222222222222222,
              "#3e4989"
             ],
             [
              0.3333333333333333,
              "#31688e"
             ],
             [
              0.4444444444444444,
              "#26828e"
             ],
             [
              0.5555555555555556,
              "#1f9e89"
             ],
             [
              0.6666666666666666,
              "#35b779"
             ],
             [
              0.7777777777777778,
              "#6ece58"
             ],
             [
              0.8888888888888888,
              "#b5de2b"
             ],
             [
              1,
              "#fde725"
             ]
            ],
            "type": "contour"
           }
          ],
          "contourcarpet": [
           {
            "colorbar": {
             "outlinewidth": 1,
             "tickcolor": "rgb(36,36,36)",
             "ticks": "outside"
            },
            "type": "contourcarpet"
           }
          ],
          "heatmap": [
           {
            "colorbar": {
             "outlinewidth": 1,
             "tickcolor": "rgb(36,36,36)",
             "ticks": "outside"
            },
            "colorscale": [
             [
              0,
              "#440154"
             ],
             [
              0.1111111111111111,
              "#482878"
             ],
             [
              0.2222222222222222,
              "#3e4989"
             ],
             [
              0.3333333333333333,
              "#31688e"
             ],
             [
              0.4444444444444444,
              "#26828e"
             ],
             [
              0.5555555555555556,
              "#1f9e89"
             ],
             [
              0.6666666666666666,
              "#35b779"
             ],
             [
              0.7777777777777778,
              "#6ece58"
             ],
             [
              0.8888888888888888,
              "#b5de2b"
             ],
             [
              1,
              "#fde725"
             ]
            ],
            "type": "heatmap"
           }
          ],
          "heatmapgl": [
           {
            "colorbar": {
             "outlinewidth": 1,
             "tickcolor": "rgb(36,36,36)",
             "ticks": "outside"
            },
            "colorscale": [
             [
              0,
              "#440154"
             ],
             [
              0.1111111111111111,
              "#482878"
             ],
             [
              0.2222222222222222,
              "#3e4989"
             ],
             [
              0.3333333333333333,
              "#31688e"
             ],
             [
              0.4444444444444444,
              "#26828e"
             ],
             [
              0.5555555555555556,
              "#1f9e89"
             ],
             [
              0.6666666666666666,
              "#35b779"
             ],
             [
              0.7777777777777778,
              "#6ece58"
             ],
             [
              0.8888888888888888,
              "#b5de2b"
             ],
             [
              1,
              "#fde725"
             ]
            ],
            "type": "heatmapgl"
           }
          ],
          "histogram": [
           {
            "marker": {
             "line": {
              "color": "white",
              "width": 0.6
             }
            },
            "type": "histogram"
           }
          ],
          "histogram2d": [
           {
            "colorbar": {
             "outlinewidth": 1,
             "tickcolor": "rgb(36,36,36)",
             "ticks": "outside"
            },
            "colorscale": [
             [
              0,
              "#440154"
             ],
             [
              0.1111111111111111,
              "#482878"
             ],
             [
              0.2222222222222222,
              "#3e4989"
             ],
             [
              0.3333333333333333,
              "#31688e"
             ],
             [
              0.4444444444444444,
              "#26828e"
             ],
             [
              0.5555555555555556,
              "#1f9e89"
             ],
             [
              0.6666666666666666,
              "#35b779"
             ],
             [
              0.7777777777777778,
              "#6ece58"
             ],
             [
              0.8888888888888888,
              "#b5de2b"
             ],
             [
              1,
              "#fde725"
             ]
            ],
            "type": "histogram2d"
           }
          ],
          "histogram2dcontour": [
           {
            "colorbar": {
             "outlinewidth": 1,
             "tickcolor": "rgb(36,36,36)",
             "ticks": "outside"
            },
            "colorscale": [
             [
              0,
              "#440154"
             ],
             [
              0.1111111111111111,
              "#482878"
             ],
             [
              0.2222222222222222,
              "#3e4989"
             ],
             [
              0.3333333333333333,
              "#31688e"
             ],
             [
              0.4444444444444444,
              "#26828e"
             ],
             [
              0.5555555555555556,
              "#1f9e89"
             ],
             [
              0.6666666666666666,
              "#35b779"
             ],
             [
              0.7777777777777778,
              "#6ece58"
             ],
             [
              0.8888888888888888,
              "#b5de2b"
             ],
             [
              1,
              "#fde725"
             ]
            ],
            "type": "histogram2dcontour"
           }
          ],
          "mesh3d": [
           {
            "colorbar": {
             "outlinewidth": 1,
             "tickcolor": "rgb(36,36,36)",
             "ticks": "outside"
            },
            "type": "mesh3d"
           }
          ],
          "parcoords": [
           {
            "line": {
             "colorbar": {
              "outlinewidth": 1,
              "tickcolor": "rgb(36,36,36)",
              "ticks": "outside"
             }
            },
            "type": "parcoords"
           }
          ],
          "pie": [
           {
            "automargin": true,
            "type": "pie"
           }
          ],
          "scatter": [
           {
            "fillpattern": {
             "fillmode": "overlay",
             "size": 10,
             "solidity": 0.2
            },
            "type": "scatter"
           }
          ],
          "scatter3d": [
           {
            "line": {
             "colorbar": {
              "outlinewidth": 1,
              "tickcolor": "rgb(36,36,36)",
              "ticks": "outside"
             }
            },
            "marker": {
             "colorbar": {
              "outlinewidth": 1,
              "tickcolor": "rgb(36,36,36)",
              "ticks": "outside"
             }
            },
            "type": "scatter3d"
           }
          ],
          "scattercarpet": [
           {
            "marker": {
             "colorbar": {
              "outlinewidth": 1,
              "tickcolor": "rgb(36,36,36)",
              "ticks": "outside"
             }
            },
            "type": "scattercarpet"
           }
          ],
          "scattergeo": [
           {
            "marker": {
             "colorbar": {
              "outlinewidth": 1,
              "tickcolor": "rgb(36,36,36)",
              "ticks": "outside"
             }
            },
            "type": "scattergeo"
           }
          ],
          "scattergl": [
           {
            "marker": {
             "colorbar": {
              "outlinewidth": 1,
              "tickcolor": "rgb(36,36,36)",
              "ticks": "outside"
             }
            },
            "type": "scattergl"
           }
          ],
          "scattermapbox": [
           {
            "marker": {
             "colorbar": {
              "outlinewidth": 1,
              "tickcolor": "rgb(36,36,36)",
              "ticks": "outside"
             }
            },
            "type": "scattermapbox"
           }
          ],
          "scatterpolar": [
           {
            "marker": {
             "colorbar": {
              "outlinewidth": 1,
              "tickcolor": "rgb(36,36,36)",
              "ticks": "outside"
             }
            },
            "type": "scatterpolar"
           }
          ],
          "scatterpolargl": [
           {
            "marker": {
             "colorbar": {
              "outlinewidth": 1,
              "tickcolor": "rgb(36,36,36)",
              "ticks": "outside"
             }
            },
            "type": "scatterpolargl"
           }
          ],
          "scatterternary": [
           {
            "marker": {
             "colorbar": {
              "outlinewidth": 1,
              "tickcolor": "rgb(36,36,36)",
              "ticks": "outside"
             }
            },
            "type": "scatterternary"
           }
          ],
          "surface": [
           {
            "colorbar": {
             "outlinewidth": 1,
             "tickcolor": "rgb(36,36,36)",
             "ticks": "outside"
            },
            "colorscale": [
             [
              0,
              "#440154"
             ],
             [
              0.1111111111111111,
              "#482878"
             ],
             [
              0.2222222222222222,
              "#3e4989"
             ],
             [
              0.3333333333333333,
              "#31688e"
             ],
             [
              0.4444444444444444,
              "#26828e"
             ],
             [
              0.5555555555555556,
              "#1f9e89"
             ],
             [
              0.6666666666666666,
              "#35b779"
             ],
             [
              0.7777777777777778,
              "#6ece58"
             ],
             [
              0.8888888888888888,
              "#b5de2b"
             ],
             [
              1,
              "#fde725"
             ]
            ],
            "type": "surface"
           }
          ],
          "table": [
           {
            "cells": {
             "fill": {
              "color": "rgb(237,237,237)"
             },
             "line": {
              "color": "white"
             }
            },
            "header": {
             "fill": {
              "color": "rgb(217,217,217)"
             },
             "line": {
              "color": "white"
             }
            },
            "type": "table"
           }
          ]
         },
         "layout": {
          "annotationdefaults": {
           "arrowhead": 0,
           "arrowwidth": 1
          },
          "autotypenumbers": "strict",
          "coloraxis": {
           "colorbar": {
            "outlinewidth": 1,
            "tickcolor": "rgb(36,36,36)",
            "ticks": "outside"
           }
          },
          "colorscale": {
           "diverging": [
            [
             0,
             "rgb(103,0,31)"
            ],
            [
             0.1,
             "rgb(178,24,43)"
            ],
            [
             0.2,
             "rgb(214,96,77)"
            ],
            [
             0.3,
             "rgb(244,165,130)"
            ],
            [
             0.4,
             "rgb(253,219,199)"
            ],
            [
             0.5,
             "rgb(247,247,247)"
            ],
            [
             0.6,
             "rgb(209,229,240)"
            ],
            [
             0.7,
             "rgb(146,197,222)"
            ],
            [
             0.8,
             "rgb(67,147,195)"
            ],
            [
             0.9,
             "rgb(33,102,172)"
            ],
            [
             1,
             "rgb(5,48,97)"
            ]
           ],
           "sequential": [
            [
             0,
             "#440154"
            ],
            [
             0.1111111111111111,
             "#482878"
            ],
            [
             0.2222222222222222,
             "#3e4989"
            ],
            [
             0.3333333333333333,
             "#31688e"
            ],
            [
             0.4444444444444444,
             "#26828e"
            ],
            [
             0.5555555555555556,
             "#1f9e89"
            ],
            [
             0.6666666666666666,
             "#35b779"
            ],
            [
             0.7777777777777778,
             "#6ece58"
            ],
            [
             0.8888888888888888,
             "#b5de2b"
            ],
            [
             1,
             "#fde725"
            ]
           ],
           "sequentialminus": [
            [
             0,
             "#440154"
            ],
            [
             0.1111111111111111,
             "#482878"
            ],
            [
             0.2222222222222222,
             "#3e4989"
            ],
            [
             0.3333333333333333,
             "#31688e"
            ],
            [
             0.4444444444444444,
             "#26828e"
            ],
            [
             0.5555555555555556,
             "#1f9e89"
            ],
            [
             0.6666666666666666,
             "#35b779"
            ],
            [
             0.7777777777777778,
             "#6ece58"
            ],
            [
             0.8888888888888888,
             "#b5de2b"
            ],
            [
             1,
             "#fde725"
            ]
           ]
          },
          "colorway": [
           "#1F77B4",
           "#FF7F0E",
           "#2CA02C",
           "#D62728",
           "#9467BD",
           "#8C564B",
           "#E377C2",
           "#7F7F7F",
           "#BCBD22",
           "#17BECF"
          ],
          "font": {
           "color": "rgb(36,36,36)"
          },
          "geo": {
           "bgcolor": "white",
           "lakecolor": "white",
           "landcolor": "white",
           "showlakes": true,
           "showland": true,
           "subunitcolor": "white"
          },
          "hoverlabel": {
           "align": "left"
          },
          "hovermode": "closest",
          "mapbox": {
           "style": "light"
          },
          "paper_bgcolor": "white",
          "plot_bgcolor": "white",
          "polar": {
           "angularaxis": {
            "gridcolor": "rgb(232,232,232)",
            "linecolor": "rgb(36,36,36)",
            "showgrid": false,
            "showline": true,
            "ticks": "outside"
           },
           "bgcolor": "white",
           "radialaxis": {
            "gridcolor": "rgb(232,232,232)",
            "linecolor": "rgb(36,36,36)",
            "showgrid": false,
            "showline": true,
            "ticks": "outside"
           }
          },
          "scene": {
           "xaxis": {
            "backgroundcolor": "white",
            "gridcolor": "rgb(232,232,232)",
            "gridwidth": 2,
            "linecolor": "rgb(36,36,36)",
            "showbackground": true,
            "showgrid": false,
            "showline": true,
            "ticks": "outside",
            "zeroline": false,
            "zerolinecolor": "rgb(36,36,36)"
           },
           "yaxis": {
            "backgroundcolor": "white",
            "gridcolor": "rgb(232,232,232)",
            "gridwidth": 2,
            "linecolor": "rgb(36,36,36)",
            "showbackground": true,
            "showgrid": false,
            "showline": true,
            "ticks": "outside",
            "zeroline": false,
            "zerolinecolor": "rgb(36,36,36)"
           },
           "zaxis": {
            "backgroundcolor": "white",
            "gridcolor": "rgb(232,232,232)",
            "gridwidth": 2,
            "linecolor": "rgb(36,36,36)",
            "showbackground": true,
            "showgrid": false,
            "showline": true,
            "ticks": "outside",
            "zeroline": false,
            "zerolinecolor": "rgb(36,36,36)"
           }
          },
          "shapedefaults": {
           "fillcolor": "black",
           "line": {
            "width": 0
           },
           "opacity": 0.3
          },
          "ternary": {
           "aaxis": {
            "gridcolor": "rgb(232,232,232)",
            "linecolor": "rgb(36,36,36)",
            "showgrid": false,
            "showline": true,
            "ticks": "outside"
           },
           "baxis": {
            "gridcolor": "rgb(232,232,232)",
            "linecolor": "rgb(36,36,36)",
            "showgrid": false,
            "showline": true,
            "ticks": "outside"
           },
           "bgcolor": "white",
           "caxis": {
            "gridcolor": "rgb(232,232,232)",
            "linecolor": "rgb(36,36,36)",
            "showgrid": false,
            "showline": true,
            "ticks": "outside"
           }
          },
          "title": {
           "x": 0.05
          },
          "xaxis": {
           "automargin": true,
           "gridcolor": "rgb(232,232,232)",
           "linecolor": "rgb(36,36,36)",
           "showgrid": false,
           "showline": true,
           "ticks": "outside",
           "title": {
            "standoff": 15
           },
           "zeroline": false,
           "zerolinecolor": "rgb(36,36,36)"
          },
          "yaxis": {
           "automargin": true,
           "gridcolor": "rgb(232,232,232)",
           "linecolor": "rgb(36,36,36)",
           "showgrid": false,
           "showline": true,
           "ticks": "outside",
           "title": {
            "standoff": 15
           },
           "zeroline": false,
           "zerolinecolor": "rgb(36,36,36)"
          }
         }
        },
        "xaxis": {
         "anchor": "y",
         "domain": [
          0,
          0.31999999999999995
         ],
         "title": {
          "text": "datetime"
         }
        },
        "xaxis2": {
         "anchor": "y2",
         "domain": [
          0.33999999999999997,
          0.6599999999999999
         ],
         "matches": "x",
         "title": {
          "text": "datetime"
         }
        },
        "xaxis3": {
         "anchor": "y3",
         "domain": [
          0.6799999999999999,
          0.9999999999999999
         ],
         "matches": "x",
         "title": {
          "text": "datetime"
         }
        },
        "yaxis": {
         "anchor": "x",
         "domain": [
          0,
          1
         ],
         "title": {
          "text": "cost_cum"
         }
        },
        "yaxis2": {
         "anchor": "x2",
         "domain": [
          0,
          1
         ],
         "matches": "y",
         "showticklabels": false
        },
        "yaxis3": {
         "anchor": "x3",
         "domain": [
          0,
          1
         ],
         "matches": "y",
         "showticklabels": false
        }
       }
      }
     },
     "metadata": {},
     "output_type": "display_data"
    }
   ],
   "source": [
    "import plotly.express as px\n",
    "\n",
    "fig = px.area(df, x=df.index, y='cost_cum', facet_col='hour_bin', template='simple_white')\n",
    "fig"
   ]
  },
  {
   "cell_type": "code",
   "execution_count": 14,
   "metadata": {
    "tags": [
     "remove_cell"
    ]
   },
   "outputs": [],
   "source": [
    "fig.write_image('output/cost_cum.png')"
   ]
  }
 ],
 "metadata": {
  "kernelspec": {
   "display_name": "work",
   "language": "python",
   "name": "python3"
  },
  "language_info": {
   "codemirror_mode": {
    "name": "ipython",
    "version": 3
   },
   "file_extension": ".py",
   "mimetype": "text/x-python",
   "name": "python",
   "nbconvert_exporter": "python",
   "pygments_lexer": "ipython3",
   "version": "3.12.2"
  }
 },
 "nbformat": 4,
 "nbformat_minor": 2
}
