{
 "cells": [
  {
   "cell_type": "markdown",
   "metadata": {},
   "source": [
    "# Preprocessing raw scraped data"
   ]
  },
  {
   "cell_type": "markdown",
   "metadata": {},
   "source": [
    "## Load data"
   ]
  },
  {
   "cell_type": "code",
   "execution_count": 146,
   "metadata": {},
   "outputs": [
    {
     "data": {
      "text/html": [
       "<div>\n",
       "<style scoped>\n",
       "    .dataframe tbody tr th:only-of-type {\n",
       "        vertical-align: middle;\n",
       "    }\n",
       "\n",
       "    .dataframe tbody tr th {\n",
       "        vertical-align: top;\n",
       "    }\n",
       "\n",
       "    .dataframe thead th {\n",
       "        text-align: right;\n",
       "    }\n",
       "</style>\n",
       "<table border=\"1\" class=\"dataframe\">\n",
       "  <thead>\n",
       "    <tr style=\"text-align: right;\">\n",
       "      <th></th>\n",
       "      <th>hour</th>\n",
       "      <th>price</th>\n",
       "      <th>volume</th>\n",
       "    </tr>\n",
       "  </thead>\n",
       "  <tbody>\n",
       "    <tr>\n",
       "      <th>0</th>\n",
       "      <td>00h-01h</td>\n",
       "      <td>63.33</td>\n",
       "      <td>8744.9</td>\n",
       "    </tr>\n",
       "    <tr>\n",
       "      <th>1</th>\n",
       "      <td>01h-02h</td>\n",
       "      <td>50.09</td>\n",
       "      <td>8671.4</td>\n",
       "    </tr>\n",
       "    <tr>\n",
       "      <th>...</th>\n",
       "      <td>...</td>\n",
       "      <td>...</td>\n",
       "      <td>...</td>\n",
       "    </tr>\n",
       "    <tr>\n",
       "      <th>22</th>\n",
       "      <td>22h-23h</td>\n",
       "      <td>47.50</td>\n",
       "      <td>11154.9</td>\n",
       "    </tr>\n",
       "    <tr>\n",
       "      <th>23</th>\n",
       "      <td>23h-24h</td>\n",
       "      <td>42.09</td>\n",
       "      <td>11000.1</td>\n",
       "    </tr>\n",
       "  </tbody>\n",
       "</table>\n",
       "<p>24 rows × 3 columns</p>\n",
       "</div>"
      ],
      "text/plain": [
       "       hour  price   volume\n",
       "0   00h-01h  63.33   8744.9\n",
       "1   01h-02h  50.09   8671.4\n",
       "..      ...    ...      ...\n",
       "22  22h-23h  47.50  11154.9\n",
       "23  23h-24h  42.09  11000.1\n",
       "\n",
       "[24 rows x 3 columns]"
      ]
     },
     "execution_count": 146,
     "metadata": {},
     "output_type": "execute_result"
    }
   ],
   "source": [
    "import pandas as pd\n",
    "\n",
    "path = '../data/raw/2024-01-01.csv'\n",
    "df = pd.read_csv(path)\n",
    "\n",
    "df.columns = 'hour', 'price', 'volume'\n",
    "df"
   ]
  },
  {
   "cell_type": "markdown",
   "metadata": {},
   "source": [
    "## Preprocessing"
   ]
  },
  {
   "cell_type": "code",
   "execution_count": 147,
   "metadata": {},
   "outputs": [
    {
     "data": {
      "text/html": [
       "<div>\n",
       "<style scoped>\n",
       "    .dataframe tbody tr th:only-of-type {\n",
       "        vertical-align: middle;\n",
       "    }\n",
       "\n",
       "    .dataframe tbody tr th {\n",
       "        vertical-align: top;\n",
       "    }\n",
       "\n",
       "    .dataframe thead th {\n",
       "        text-align: right;\n",
       "    }\n",
       "</style>\n",
       "<table border=\"1\" class=\"dataframe\">\n",
       "  <thead>\n",
       "    <tr style=\"text-align: right;\">\n",
       "      <th></th>\n",
       "      <th>price</th>\n",
       "      <th>volume</th>\n",
       "      <th>datetime</th>\n",
       "    </tr>\n",
       "  </thead>\n",
       "  <tbody>\n",
       "    <tr>\n",
       "      <th>0</th>\n",
       "      <td>63.33</td>\n",
       "      <td>8744.9</td>\n",
       "      <td>2024-01-01 00:00:00</td>\n",
       "    </tr>\n",
       "    <tr>\n",
       "      <th>1</th>\n",
       "      <td>50.09</td>\n",
       "      <td>8671.4</td>\n",
       "      <td>2024-01-01 01:00:00</td>\n",
       "    </tr>\n",
       "    <tr>\n",
       "      <th>...</th>\n",
       "      <td>...</td>\n",
       "      <td>...</td>\n",
       "      <td>...</td>\n",
       "    </tr>\n",
       "    <tr>\n",
       "      <th>22</th>\n",
       "      <td>47.50</td>\n",
       "      <td>11154.9</td>\n",
       "      <td>2024-01-01 22:00:00</td>\n",
       "    </tr>\n",
       "    <tr>\n",
       "      <th>23</th>\n",
       "      <td>42.09</td>\n",
       "      <td>11000.1</td>\n",
       "      <td>2024-01-01 23:00:00</td>\n",
       "    </tr>\n",
       "  </tbody>\n",
       "</table>\n",
       "<p>24 rows × 3 columns</p>\n",
       "</div>"
      ],
      "text/plain": [
       "    price   volume            datetime\n",
       "0   63.33   8744.9 2024-01-01 00:00:00\n",
       "1   50.09   8671.4 2024-01-01 01:00:00\n",
       "..    ...      ...                 ...\n",
       "22  47.50  11154.9 2024-01-01 22:00:00\n",
       "23  42.09  11000.1 2024-01-01 23:00:00\n",
       "\n",
       "[24 rows x 3 columns]"
      ]
     },
     "execution_count": 147,
     "metadata": {},
     "output_type": "execute_result"
    }
   ],
   "source": [
    "date = path.split('/')[-1].split('.')[0]\n",
    "df['date'] = date\n",
    "\n",
    "hour = df['hour'].str.extract(r'^(\\d+)')[0]\n",
    "df['hour'] = hour\n",
    "\n",
    "s = df['date'] + ' ' + df['hour']\n",
    "s = pd.to_datetime(s)\n",
    "\n",
    "df['datetime'] = s\n",
    "df.drop(columns=['date', 'hour'], inplace=True)\n",
    "\n",
    "df"
   ]
  },
  {
   "cell_type": "markdown",
   "metadata": {},
   "source": [
    "## Refactor into function"
   ]
  },
  {
   "cell_type": "code",
   "execution_count": 148,
   "metadata": {},
   "outputs": [],
   "source": [
    "def preprocess(path):\n",
    "    \n",
    "    df = pd.read_csv(path)\n",
    "    df.columns = 'hour', 'price', 'volume'\n",
    "    \n",
    "    date = path.split('/')[-1].split('.')[0]\n",
    "    df['date'] = date\n",
    "    \n",
    "    hour = df['hour'].str.extract(r'^(\\d+)')[0]\n",
    "    df['hour'] = hour\n",
    "    \n",
    "    s = df['date'] + ' ' + df['hour']\n",
    "    s = pd.to_datetime(s)\n",
    "    df['datetime'] = s\n",
    "    \n",
    "    df.drop(columns=['date', 'hour'], inplace=True)\n",
    "    \n",
    "    return df"
   ]
  },
  {
   "cell_type": "code",
   "execution_count": 149,
   "metadata": {},
   "outputs": [
    {
     "data": {
      "text/html": [
       "<div>\n",
       "<style scoped>\n",
       "    .dataframe tbody tr th:only-of-type {\n",
       "        vertical-align: middle;\n",
       "    }\n",
       "\n",
       "    .dataframe tbody tr th {\n",
       "        vertical-align: top;\n",
       "    }\n",
       "\n",
       "    .dataframe thead th {\n",
       "        text-align: right;\n",
       "    }\n",
       "</style>\n",
       "<table border=\"1\" class=\"dataframe\">\n",
       "  <thead>\n",
       "    <tr style=\"text-align: right;\">\n",
       "      <th></th>\n",
       "      <th>price</th>\n",
       "      <th>volume</th>\n",
       "      <th>datetime</th>\n",
       "    </tr>\n",
       "  </thead>\n",
       "  <tbody>\n",
       "    <tr>\n",
       "      <th>0</th>\n",
       "      <td>63.33</td>\n",
       "      <td>8744.9</td>\n",
       "      <td>2024-01-01 00:00:00</td>\n",
       "    </tr>\n",
       "    <tr>\n",
       "      <th>1</th>\n",
       "      <td>50.09</td>\n",
       "      <td>8671.4</td>\n",
       "      <td>2024-01-01 01:00:00</td>\n",
       "    </tr>\n",
       "    <tr>\n",
       "      <th>...</th>\n",
       "      <td>...</td>\n",
       "      <td>...</td>\n",
       "      <td>...</td>\n",
       "    </tr>\n",
       "    <tr>\n",
       "      <th>22</th>\n",
       "      <td>47.50</td>\n",
       "      <td>11154.9</td>\n",
       "      <td>2024-01-01 22:00:00</td>\n",
       "    </tr>\n",
       "    <tr>\n",
       "      <th>23</th>\n",
       "      <td>42.09</td>\n",
       "      <td>11000.1</td>\n",
       "      <td>2024-01-01 23:00:00</td>\n",
       "    </tr>\n",
       "  </tbody>\n",
       "</table>\n",
       "<p>24 rows × 3 columns</p>\n",
       "</div>"
      ],
      "text/plain": [
       "    price   volume            datetime\n",
       "0   63.33   8744.9 2024-01-01 00:00:00\n",
       "1   50.09   8671.4 2024-01-01 01:00:00\n",
       "..    ...      ...                 ...\n",
       "22  47.50  11154.9 2024-01-01 22:00:00\n",
       "23  42.09  11000.1 2024-01-01 23:00:00\n",
       "\n",
       "[24 rows x 3 columns]"
      ]
     },
     "execution_count": 149,
     "metadata": {},
     "output_type": "execute_result"
    }
   ],
   "source": [
    "preprocess('../data/raw/2024-01-01.csv')"
   ]
  },
  {
   "cell_type": "markdown",
   "metadata": {},
   "source": [
    "## Combine multiple files"
   ]
  },
  {
   "cell_type": "markdown",
   "metadata": {},
   "source": [
    "### Replicate preprocessing"
   ]
  },
  {
   "cell_type": "code",
   "execution_count": 150,
   "metadata": {},
   "outputs": [
    {
     "data": {
      "text/plain": [
       "['../data/raw/2024-01-13.csv',\n",
       " '../data/raw/2024-01-07.csv',\n",
       " '../data/raw/2024-01-06.csv',\n",
       " '../data/raw/2024-01-12.csv',\n",
       " '../data/raw/2024-01-04.csv',\n",
       " '../data/raw/2024-01-10.csv',\n",
       " '../data/raw/2024-01-11.csv',\n",
       " '../data/raw/2024-01-05.csv',\n",
       " '../data/raw/2024-01-01.csv',\n",
       " '../data/raw/2024-01-15.csv',\n",
       " '../data/raw/2024-01-29.csv',\n",
       " '../data/raw/2024-01-28.csv',\n",
       " '../data/raw/2024-01-14.csv',\n",
       " '../data/raw/2024-01-16.csv',\n",
       " '../data/raw/2024-01-02.csv',\n",
       " '../data/raw/2024-04-27.csv',\n",
       " '../data/raw/2024-01-03.csv',\n",
       " '../data/raw/2024-01-17.csv',\n",
       " '../data/raw/2024-05-07.csv',\n",
       " '../data/raw/2024-01-26.csv',\n",
       " '../data/raw/2024-01-27.csv',\n",
       " '../data/raw/2024-01-19.csv',\n",
       " '../data/raw/2024-01-25.csv',\n",
       " '../data/raw/2024-01-31.csv',\n",
       " '../data/raw/2024-01-30.csv',\n",
       " '../data/raw/2024-01-24.csv',\n",
       " '../data/raw/2024-01-18.csv',\n",
       " '../data/raw/2024-01-20.csv',\n",
       " '../data/raw/2024-01-08.csv',\n",
       " '../data/raw/2024-01-09.csv',\n",
       " '../data/raw/2024-01-21.csv',\n",
       " '../data/raw/2024-01-23.csv',\n",
       " '../data/raw/2024-01-22.csv']"
      ]
     },
     "execution_count": 150,
     "metadata": {},
     "output_type": "execute_result"
    }
   ],
   "source": [
    "import glob\n",
    "paths = glob.glob('../data/raw/*.csv')\n",
    "paths"
   ]
  },
  {
   "cell_type": "code",
   "execution_count": 151,
   "metadata": {},
   "outputs": [],
   "source": [
    "dfs = []\n",
    "for path in paths:\n",
    "    df = preprocess(path)\n",
    "    dfs.append(df)"
   ]
  },
  {
   "cell_type": "markdown",
   "metadata": {},
   "source": [
    "### Concatenate `DataFrames`"
   ]
  },
  {
   "cell_type": "code",
   "execution_count": 152,
   "metadata": {},
   "outputs": [
    {
     "data": {
      "text/html": [
       "<div>\n",
       "<style scoped>\n",
       "    .dataframe tbody tr th:only-of-type {\n",
       "        vertical-align: middle;\n",
       "    }\n",
       "\n",
       "    .dataframe tbody tr th {\n",
       "        vertical-align: top;\n",
       "    }\n",
       "\n",
       "    .dataframe thead th {\n",
       "        text-align: right;\n",
       "    }\n",
       "</style>\n",
       "<table border=\"1\" class=\"dataframe\">\n",
       "  <thead>\n",
       "    <tr style=\"text-align: right;\">\n",
       "      <th></th>\n",
       "      <th>price</th>\n",
       "      <th>volume</th>\n",
       "    </tr>\n",
       "    <tr>\n",
       "      <th>datetime</th>\n",
       "      <th></th>\n",
       "      <th></th>\n",
       "    </tr>\n",
       "  </thead>\n",
       "  <tbody>\n",
       "    <tr>\n",
       "      <th>2024-01-01 00:00:00</th>\n",
       "      <td>63.33</td>\n",
       "      <td>8744.9</td>\n",
       "    </tr>\n",
       "    <tr>\n",
       "      <th>2024-01-01 01:00:00</th>\n",
       "      <td>50.09</td>\n",
       "      <td>8671.4</td>\n",
       "    </tr>\n",
       "    <tr>\n",
       "      <th>...</th>\n",
       "      <td>...</td>\n",
       "      <td>...</td>\n",
       "    </tr>\n",
       "    <tr>\n",
       "      <th>2024-05-07 22:00:00</th>\n",
       "      <td>62.00</td>\n",
       "      <td>18313.9</td>\n",
       "    </tr>\n",
       "    <tr>\n",
       "      <th>2024-05-07 23:00:00</th>\n",
       "      <td>50.01</td>\n",
       "      <td>20672.7</td>\n",
       "    </tr>\n",
       "  </tbody>\n",
       "</table>\n",
       "<p>792 rows × 2 columns</p>\n",
       "</div>"
      ],
      "text/plain": [
       "                     price   volume\n",
       "datetime                           \n",
       "2024-01-01 00:00:00  63.33   8744.9\n",
       "2024-01-01 01:00:00  50.09   8671.4\n",
       "...                    ...      ...\n",
       "2024-05-07 22:00:00  62.00  18313.9\n",
       "2024-05-07 23:00:00  50.01  20672.7\n",
       "\n",
       "[792 rows x 2 columns]"
      ]
     },
     "execution_count": 152,
     "metadata": {},
     "output_type": "execute_result"
    }
   ],
   "source": [
    "df = pd.concat(dfs).set_index('datetime').sort_index()\n",
    "df"
   ]
  },
  {
   "cell_type": "markdown",
   "metadata": {},
   "source": [
    "## Create new columns"
   ]
  },
  {
   "cell_type": "code",
   "execution_count": 153,
   "metadata": {},
   "outputs": [
    {
     "data": {
      "text/html": [
       "<div>\n",
       "<style scoped>\n",
       "    .dataframe tbody tr th:only-of-type {\n",
       "        vertical-align: middle;\n",
       "    }\n",
       "\n",
       "    .dataframe tbody tr th {\n",
       "        vertical-align: top;\n",
       "    }\n",
       "\n",
       "    .dataframe thead th {\n",
       "        text-align: right;\n",
       "    }\n",
       "</style>\n",
       "<table border=\"1\" class=\"dataframe\">\n",
       "  <thead>\n",
       "    <tr style=\"text-align: right;\">\n",
       "      <th></th>\n",
       "      <th>price</th>\n",
       "      <th>volume</th>\n",
       "      <th>cost</th>\n",
       "    </tr>\n",
       "    <tr>\n",
       "      <th>datetime</th>\n",
       "      <th></th>\n",
       "      <th></th>\n",
       "      <th></th>\n",
       "    </tr>\n",
       "  </thead>\n",
       "  <tbody>\n",
       "    <tr>\n",
       "      <th>2024-01-01 00:00:00</th>\n",
       "      <td>63.33</td>\n",
       "      <td>8744.9</td>\n",
       "      <td>553814.517</td>\n",
       "    </tr>\n",
       "    <tr>\n",
       "      <th>2024-01-01 01:00:00</th>\n",
       "      <td>50.09</td>\n",
       "      <td>8671.4</td>\n",
       "      <td>434350.426</td>\n",
       "    </tr>\n",
       "    <tr>\n",
       "      <th>...</th>\n",
       "      <td>...</td>\n",
       "      <td>...</td>\n",
       "      <td>...</td>\n",
       "    </tr>\n",
       "    <tr>\n",
       "      <th>2024-05-07 22:00:00</th>\n",
       "      <td>62.00</td>\n",
       "      <td>18313.9</td>\n",
       "      <td>1135461.800</td>\n",
       "    </tr>\n",
       "    <tr>\n",
       "      <th>2024-05-07 23:00:00</th>\n",
       "      <td>50.01</td>\n",
       "      <td>20672.7</td>\n",
       "      <td>1033841.727</td>\n",
       "    </tr>\n",
       "  </tbody>\n",
       "</table>\n",
       "<p>792 rows × 3 columns</p>\n",
       "</div>"
      ],
      "text/plain": [
       "                     price   volume         cost\n",
       "datetime                                        \n",
       "2024-01-01 00:00:00  63.33   8744.9   553814.517\n",
       "2024-01-01 01:00:00  50.09   8671.4   434350.426\n",
       "...                    ...      ...          ...\n",
       "2024-05-07 22:00:00  62.00  18313.9  1135461.800\n",
       "2024-05-07 23:00:00  50.01  20672.7  1033841.727\n",
       "\n",
       "[792 rows x 3 columns]"
      ]
     },
     "execution_count": 153,
     "metadata": {},
     "output_type": "execute_result"
    }
   ],
   "source": [
    "df['cost'] = df['price'] * df['volume']\n",
    "df"
   ]
  },
  {
   "cell_type": "markdown",
   "metadata": {},
   "source": [
    "## Filter dates"
   ]
  },
  {
   "cell_type": "code",
   "execution_count": 155,
   "metadata": {},
   "outputs": [
    {
     "data": {
      "text/html": [
       "<div>\n",
       "<style scoped>\n",
       "    .dataframe tbody tr th:only-of-type {\n",
       "        vertical-align: middle;\n",
       "    }\n",
       "\n",
       "    .dataframe tbody tr th {\n",
       "        vertical-align: top;\n",
       "    }\n",
       "\n",
       "    .dataframe thead th {\n",
       "        text-align: right;\n",
       "    }\n",
       "</style>\n",
       "<table border=\"1\" class=\"dataframe\">\n",
       "  <thead>\n",
       "    <tr style=\"text-align: right;\">\n",
       "      <th></th>\n",
       "      <th>price</th>\n",
       "      <th>volume</th>\n",
       "      <th>cost</th>\n",
       "    </tr>\n",
       "    <tr>\n",
       "      <th>datetime</th>\n",
       "      <th></th>\n",
       "      <th></th>\n",
       "      <th></th>\n",
       "    </tr>\n",
       "  </thead>\n",
       "  <tbody>\n",
       "    <tr>\n",
       "      <th>2024-01-01 00:00:00</th>\n",
       "      <td>63.33</td>\n",
       "      <td>8744.9</td>\n",
       "      <td>553814.517</td>\n",
       "    </tr>\n",
       "    <tr>\n",
       "      <th>2024-01-01 01:00:00</th>\n",
       "      <td>50.09</td>\n",
       "      <td>8671.4</td>\n",
       "      <td>434350.426</td>\n",
       "    </tr>\n",
       "    <tr>\n",
       "      <th>...</th>\n",
       "      <td>...</td>\n",
       "      <td>...</td>\n",
       "      <td>...</td>\n",
       "    </tr>\n",
       "    <tr>\n",
       "      <th>2024-01-31 22:00:00</th>\n",
       "      <td>85.00</td>\n",
       "      <td>12171.6</td>\n",
       "      <td>1034586.000</td>\n",
       "    </tr>\n",
       "    <tr>\n",
       "      <th>2024-01-31 23:00:00</th>\n",
       "      <td>77.52</td>\n",
       "      <td>10826.8</td>\n",
       "      <td>839293.536</td>\n",
       "    </tr>\n",
       "  </tbody>\n",
       "</table>\n",
       "<p>744 rows × 3 columns</p>\n",
       "</div>"
      ],
      "text/plain": [
       "                     price   volume         cost\n",
       "datetime                                        \n",
       "2024-01-01 00:00:00  63.33   8744.9   553814.517\n",
       "2024-01-01 01:00:00  50.09   8671.4   434350.426\n",
       "...                    ...      ...          ...\n",
       "2024-01-31 22:00:00  85.00  12171.6  1034586.000\n",
       "2024-01-31 23:00:00  77.52  10826.8   839293.536\n",
       "\n",
       "[744 rows x 3 columns]"
      ]
     },
     "execution_count": 155,
     "metadata": {},
     "output_type": "execute_result"
    }
   ],
   "source": [
    "df = df.loc['2024-01'].copy()\n",
    "df"
   ]
  },
  {
   "cell_type": "markdown",
   "metadata": {},
   "source": [
    "## Export to Excel"
   ]
  },
  {
   "cell_type": "code",
   "execution_count": 157,
   "metadata": {},
   "outputs": [],
   "source": [
    "df.to_excel('../data/processed/2024-01.xlsx')"
   ]
  }
 ],
 "metadata": {
  "kernelspec": {
   "display_name": "work",
   "language": "python",
   "name": "python3"
  },
  "language_info": {
   "codemirror_mode": {
    "name": "ipython",
    "version": 3
   },
   "file_extension": ".py",
   "mimetype": "text/x-python",
   "name": "python",
   "nbconvert_exporter": "python",
   "pygments_lexer": "ipython3",
   "version": "3.12.2"
  }
 },
 "nbformat": 4,
 "nbformat_minor": 2
}
