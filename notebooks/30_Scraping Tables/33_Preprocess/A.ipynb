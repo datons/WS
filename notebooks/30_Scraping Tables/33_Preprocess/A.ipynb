{
 "cells": [
  {
   "cell_type": "markdown",
   "metadata": {},
   "source": [
    "# Preprocessing raw scraped data"
   ]
  },
  {
   "cell_type": "markdown",
   "metadata": {},
   "source": [
    "## Load data"
   ]
  },
  {
   "cell_type": "code",
   "execution_count": 1,
   "metadata": {},
   "outputs": [],
   "source": [
    "path = '../data/raw/2024-01-01.csv'"
   ]
  },
  {
   "cell_type": "code",
   "execution_count": 3,
   "metadata": {},
   "outputs": [],
   "source": [
    "import pandas as pd"
   ]
  },
  {
   "cell_type": "code",
   "execution_count": 5,
   "metadata": {},
   "outputs": [],
   "source": [
    "df = pd.read_csv(path)"
   ]
  },
  {
   "cell_type": "code",
   "execution_count": 6,
   "metadata": {},
   "outputs": [
    {
     "data": {
      "text/html": [
       "<div>\n",
       "<style scoped>\n",
       "    .dataframe tbody tr th:only-of-type {\n",
       "        vertical-align: middle;\n",
       "    }\n",
       "\n",
       "    .dataframe tbody tr th {\n",
       "        vertical-align: top;\n",
       "    }\n",
       "\n",
       "    .dataframe thead th {\n",
       "        text-align: right;\n",
       "    }\n",
       "</style>\n",
       "<table border=\"1\" class=\"dataframe\">\n",
       "  <thead>\n",
       "    <tr style=\"text-align: right;\">\n",
       "      <th></th>\n",
       "      <th>Hours</th>\n",
       "      <th>Price (€)</th>\n",
       "      <th>Volume (MWh)</th>\n",
       "    </tr>\n",
       "  </thead>\n",
       "  <tbody>\n",
       "    <tr>\n",
       "      <th>0</th>\n",
       "      <td>00h-01h</td>\n",
       "      <td>63.33</td>\n",
       "      <td>8744.9</td>\n",
       "    </tr>\n",
       "    <tr>\n",
       "      <th>1</th>\n",
       "      <td>01h-02h</td>\n",
       "      <td>50.09</td>\n",
       "      <td>8671.4</td>\n",
       "    </tr>\n",
       "    <tr>\n",
       "      <th>...</th>\n",
       "      <td>...</td>\n",
       "      <td>...</td>\n",
       "      <td>...</td>\n",
       "    </tr>\n",
       "    <tr>\n",
       "      <th>22</th>\n",
       "      <td>22h-23h</td>\n",
       "      <td>47.50</td>\n",
       "      <td>11154.9</td>\n",
       "    </tr>\n",
       "    <tr>\n",
       "      <th>23</th>\n",
       "      <td>23h-24h</td>\n",
       "      <td>42.09</td>\n",
       "      <td>11000.1</td>\n",
       "    </tr>\n",
       "  </tbody>\n",
       "</table>\n",
       "<p>24 rows × 3 columns</p>\n",
       "</div>"
      ],
      "text/plain": [
       "      Hours  Price (€)  Volume (MWh)\n",
       "0   00h-01h      63.33        8744.9\n",
       "1   01h-02h      50.09        8671.4\n",
       "..      ...        ...           ...\n",
       "22  22h-23h      47.50       11154.9\n",
       "23  23h-24h      42.09       11000.1\n",
       "\n",
       "[24 rows x 3 columns]"
      ]
     },
     "execution_count": 6,
     "metadata": {},
     "output_type": "execute_result"
    }
   ],
   "source": [
    "df"
   ]
  },
  {
   "cell_type": "markdown",
   "metadata": {},
   "source": [
    "## Preprocessing"
   ]
  },
  {
   "cell_type": "code",
   "execution_count": 12,
   "metadata": {},
   "outputs": [],
   "source": [
    "date = path.split('/')[-1].split('.')[0]"
   ]
  },
  {
   "cell_type": "code",
   "execution_count": 15,
   "metadata": {},
   "outputs": [],
   "source": [
    "df.columns = ['hour', 'price', 'volume']"
   ]
  },
  {
   "cell_type": "code",
   "execution_count": 17,
   "metadata": {},
   "outputs": [
    {
     "data": {
      "text/plain": [
       "'2024-01-01'"
      ]
     },
     "execution_count": 17,
     "metadata": {},
     "output_type": "execute_result"
    }
   ],
   "source": [
    "date"
   ]
  },
  {
   "cell_type": "code",
   "execution_count": 18,
   "metadata": {},
   "outputs": [],
   "source": [
    "df['date'] = date"
   ]
  },
  {
   "cell_type": "code",
   "execution_count": 23,
   "metadata": {},
   "outputs": [],
   "source": [
    "s = df['hour'].str.extract(r'(\\d+)')[0]"
   ]
  },
  {
   "cell_type": "code",
   "execution_count": 31,
   "metadata": {},
   "outputs": [],
   "source": [
    "s = df['date'] + ' ' + s"
   ]
  },
  {
   "cell_type": "code",
   "execution_count": 34,
   "metadata": {},
   "outputs": [],
   "source": [
    "s = pd.to_datetime(s)"
   ]
  },
  {
   "cell_type": "code",
   "execution_count": 36,
   "metadata": {},
   "outputs": [],
   "source": [
    "df['datetime'] = s"
   ]
  },
  {
   "cell_type": "code",
   "execution_count": 39,
   "metadata": {},
   "outputs": [],
   "source": [
    "df = df.drop(columns=['hour', 'date'])"
   ]
  },
  {
   "cell_type": "code",
   "execution_count": 42,
   "metadata": {},
   "outputs": [],
   "source": [
    "df = df.set_index('datetime')"
   ]
  },
  {
   "cell_type": "code",
   "execution_count": 24,
   "metadata": {},
   "outputs": [
    {
     "data": {
      "text/plain": [
       "0     00\n",
       "1     01\n",
       "      ..\n",
       "22    22\n",
       "23    23\n",
       "Name: 0, Length: 24, dtype: object"
      ]
     },
     "execution_count": 24,
     "metadata": {},
     "output_type": "execute_result"
    }
   ],
   "source": [
    "s"
   ]
  },
  {
   "cell_type": "markdown",
   "metadata": {},
   "source": [
    "## Refactor into function"
   ]
  },
  {
   "cell_type": "code",
   "execution_count": 3,
   "metadata": {},
   "outputs": [],
   "source": [
    "import pandas as pd"
   ]
  },
  {
   "cell_type": "code",
   "execution_count": null,
   "metadata": {},
   "outputs": [],
   "source": [
    "path = '../data/raw/2024-01-01.csv'\n",
    "\n"
   ]
  },
  {
   "cell_type": "code",
   "execution_count": 47,
   "metadata": {},
   "outputs": [],
   "source": [
    "def preprocess(path):\n",
    "    \n",
    "    df = pd.read_csv(path)\n",
    "    date = path.split('/')[-1].split('.')[0]\n",
    "    \n",
    "    df.columns = ['hour', 'price', 'volume']\n",
    "    df['date'] = date\n",
    "    \n",
    "    s = df['hour'].str.extract(r'(\\d+)')[0]\n",
    "    s = df['date'] + ' ' + s\n",
    "    s = pd.to_datetime(s)\n",
    "    df['datetime'] = s\n",
    "    \n",
    "    df = df.drop(columns=['hour', 'date']) \n",
    "    df = df.set_index('datetime')\n",
    "    \n",
    "    return df"
   ]
  },
  {
   "cell_type": "code",
   "execution_count": 48,
   "metadata": {},
   "outputs": [
    {
     "data": {
      "text/html": [
       "<div>\n",
       "<style scoped>\n",
       "    .dataframe tbody tr th:only-of-type {\n",
       "        vertical-align: middle;\n",
       "    }\n",
       "\n",
       "    .dataframe tbody tr th {\n",
       "        vertical-align: top;\n",
       "    }\n",
       "\n",
       "    .dataframe thead th {\n",
       "        text-align: right;\n",
       "    }\n",
       "</style>\n",
       "<table border=\"1\" class=\"dataframe\">\n",
       "  <thead>\n",
       "    <tr style=\"text-align: right;\">\n",
       "      <th></th>\n",
       "      <th>price</th>\n",
       "      <th>volume</th>\n",
       "    </tr>\n",
       "    <tr>\n",
       "      <th>datetime</th>\n",
       "      <th></th>\n",
       "      <th></th>\n",
       "    </tr>\n",
       "  </thead>\n",
       "  <tbody>\n",
       "    <tr>\n",
       "      <th>2024-01-03 00:00:00</th>\n",
       "      <td>6.80</td>\n",
       "      <td>18024.9</td>\n",
       "    </tr>\n",
       "    <tr>\n",
       "      <th>2024-01-03 01:00:00</th>\n",
       "      <td>3.20</td>\n",
       "      <td>17142.7</td>\n",
       "    </tr>\n",
       "    <tr>\n",
       "      <th>...</th>\n",
       "      <td>...</td>\n",
       "      <td>...</td>\n",
       "    </tr>\n",
       "    <tr>\n",
       "      <th>2024-01-03 22:00:00</th>\n",
       "      <td>94.20</td>\n",
       "      <td>12815.5</td>\n",
       "    </tr>\n",
       "    <tr>\n",
       "      <th>2024-01-03 23:00:00</th>\n",
       "      <td>86.58</td>\n",
       "      <td>11284.7</td>\n",
       "    </tr>\n",
       "  </tbody>\n",
       "</table>\n",
       "<p>24 rows × 2 columns</p>\n",
       "</div>"
      ],
      "text/plain": [
       "                     price   volume\n",
       "datetime                           \n",
       "2024-01-03 00:00:00   6.80  18024.9\n",
       "2024-01-03 01:00:00   3.20  17142.7\n",
       "...                    ...      ...\n",
       "2024-01-03 22:00:00  94.20  12815.5\n",
       "2024-01-03 23:00:00  86.58  11284.7\n",
       "\n",
       "[24 rows x 2 columns]"
      ]
     },
     "execution_count": 48,
     "metadata": {},
     "output_type": "execute_result"
    }
   ],
   "source": [
    "preprocess(path='../data/raw/2024-01-03.csv')"
   ]
  },
  {
   "cell_type": "code",
   "execution_count": 49,
   "metadata": {},
   "outputs": [],
   "source": [
    "import sys\n",
    "sys.path.append('../../../modules/')"
   ]
  },
  {
   "cell_type": "code",
   "execution_count": 50,
   "metadata": {},
   "outputs": [],
   "source": [
    "import omie_scrap"
   ]
  },
  {
   "cell_type": "code",
   "execution_count": 51,
   "metadata": {},
   "outputs": [
    {
     "data": {
      "text/html": [
       "<div>\n",
       "<style scoped>\n",
       "    .dataframe tbody tr th:only-of-type {\n",
       "        vertical-align: middle;\n",
       "    }\n",
       "\n",
       "    .dataframe tbody tr th {\n",
       "        vertical-align: top;\n",
       "    }\n",
       "\n",
       "    .dataframe thead th {\n",
       "        text-align: right;\n",
       "    }\n",
       "</style>\n",
       "<table border=\"1\" class=\"dataframe\">\n",
       "  <thead>\n",
       "    <tr style=\"text-align: right;\">\n",
       "      <th></th>\n",
       "      <th>price</th>\n",
       "      <th>volume</th>\n",
       "    </tr>\n",
       "    <tr>\n",
       "      <th>datetime</th>\n",
       "      <th></th>\n",
       "      <th></th>\n",
       "    </tr>\n",
       "  </thead>\n",
       "  <tbody>\n",
       "    <tr>\n",
       "      <th>2024-01-04 00:00:00</th>\n",
       "      <td>90.39</td>\n",
       "      <td>11810.2</td>\n",
       "    </tr>\n",
       "    <tr>\n",
       "      <th>2024-01-04 01:00:00</th>\n",
       "      <td>87.00</td>\n",
       "      <td>10986.3</td>\n",
       "    </tr>\n",
       "    <tr>\n",
       "      <th>...</th>\n",
       "      <td>...</td>\n",
       "      <td>...</td>\n",
       "    </tr>\n",
       "    <tr>\n",
       "      <th>2024-01-04 22:00:00</th>\n",
       "      <td>99.41</td>\n",
       "      <td>11621.0</td>\n",
       "    </tr>\n",
       "    <tr>\n",
       "      <th>2024-01-04 23:00:00</th>\n",
       "      <td>90.39</td>\n",
       "      <td>10504.6</td>\n",
       "    </tr>\n",
       "  </tbody>\n",
       "</table>\n",
       "<p>24 rows × 2 columns</p>\n",
       "</div>"
      ],
      "text/plain": [
       "                     price   volume\n",
       "datetime                           \n",
       "2024-01-04 00:00:00  90.39  11810.2\n",
       "2024-01-04 01:00:00  87.00  10986.3\n",
       "...                    ...      ...\n",
       "2024-01-04 22:00:00  99.41  11621.0\n",
       "2024-01-04 23:00:00  90.39  10504.6\n",
       "\n",
       "[24 rows x 2 columns]"
      ]
     },
     "execution_count": 51,
     "metadata": {},
     "output_type": "execute_result"
    }
   ],
   "source": [
    "omie_scrap.preprocess('../data/raw/')"
   ]
  },
  {
   "cell_type": "code",
   "execution_count": null,
   "metadata": {},
   "outputs": [
    {
     "data": {
      "text/html": [
       "<div>\n",
       "<style scoped>\n",
       "    .dataframe tbody tr th:only-of-type {\n",
       "        vertical-align: middle;\n",
       "    }\n",
       "\n",
       "    .dataframe tbody tr th {\n",
       "        vertical-align: top;\n",
       "    }\n",
       "\n",
       "    .dataframe thead th {\n",
       "        text-align: right;\n",
       "    }\n",
       "</style>\n",
       "<table border=\"1\" class=\"dataframe\">\n",
       "  <thead>\n",
       "    <tr style=\"text-align: right;\">\n",
       "      <th></th>\n",
       "      <th>price</th>\n",
       "      <th>volume</th>\n",
       "      <th>datetime</th>\n",
       "    </tr>\n",
       "  </thead>\n",
       "  <tbody>\n",
       "    <tr>\n",
       "      <th>0</th>\n",
       "      <td>63.33</td>\n",
       "      <td>8744.9</td>\n",
       "      <td>2024-01-01 00:00:00</td>\n",
       "    </tr>\n",
       "    <tr>\n",
       "      <th>1</th>\n",
       "      <td>50.09</td>\n",
       "      <td>8671.4</td>\n",
       "      <td>2024-01-01 01:00:00</td>\n",
       "    </tr>\n",
       "    <tr>\n",
       "      <th>...</th>\n",
       "      <td>...</td>\n",
       "      <td>...</td>\n",
       "      <td>...</td>\n",
       "    </tr>\n",
       "    <tr>\n",
       "      <th>22</th>\n",
       "      <td>47.50</td>\n",
       "      <td>11154.9</td>\n",
       "      <td>2024-01-01 22:00:00</td>\n",
       "    </tr>\n",
       "    <tr>\n",
       "      <th>23</th>\n",
       "      <td>42.09</td>\n",
       "      <td>11000.1</td>\n",
       "      <td>2024-01-01 23:00:00</td>\n",
       "    </tr>\n",
       "  </tbody>\n",
       "</table>\n",
       "<p>24 rows × 3 columns</p>\n",
       "</div>"
      ],
      "text/plain": [
       "    price   volume            datetime\n",
       "0   63.33   8744.9 2024-01-01 00:00:00\n",
       "1   50.09   8671.4 2024-01-01 01:00:00\n",
       "..    ...      ...                 ...\n",
       "22  47.50  11154.9 2024-01-01 22:00:00\n",
       "23  42.09  11000.1 2024-01-01 23:00:00\n",
       "\n",
       "[24 rows x 3 columns]"
      ]
     },
     "execution_count": null,
     "metadata": {},
     "output_type": "execute_result"
    }
   ],
   "source": []
  },
  {
   "cell_type": "markdown",
   "metadata": {},
   "source": [
    "## Combine multiple files"
   ]
  },
  {
   "cell_type": "markdown",
   "metadata": {},
   "source": [
    "### Replicate preprocessing"
   ]
  },
  {
   "cell_type": "code",
   "execution_count": 89,
   "metadata": {},
   "outputs": [],
   "source": [
    "import glob"
   ]
  },
  {
   "cell_type": "code",
   "execution_count": 90,
   "metadata": {},
   "outputs": [],
   "source": [
    "paths = glob.glob('../data/raw/*.csv')"
   ]
  },
  {
   "cell_type": "code",
   "execution_count": 94,
   "metadata": {},
   "outputs": [],
   "source": [
    "dfs = []"
   ]
  },
  {
   "cell_type": "code",
   "execution_count": 95,
   "metadata": {},
   "outputs": [],
   "source": [
    "for path in paths:\n",
    "    df = omie_scrap.preprocess(path)\n",
    "    dfs.append(df)"
   ]
  },
  {
   "cell_type": "code",
   "execution_count": 96,
   "metadata": {},
   "outputs": [
    {
     "data": {
      "text/plain": [
       "[                     price   volume\n",
       " datetime                           \n",
       " 2024-01-13 00:00:00  90.00  11273.5\n",
       " 2024-01-13 01:00:00  87.48  11401.8\n",
       " ...                    ...      ...\n",
       " 2024-01-13 22:00:00  93.12  11974.1\n",
       " 2024-01-13 23:00:00  90.00  11176.7\n",
       " \n",
       " [24 rows x 2 columns],\n",
       "                      price   volume\n",
       " datetime                           \n",
       " 2024-01-07 00:00:00  84.08  14296.5\n",
       " 2024-01-07 01:00:00  79.82  14654.8\n",
       " ...                    ...      ...\n",
       " 2024-01-07 22:00:00  91.17  13904.5\n",
       " 2024-01-07 23:00:00  83.86  14064.8\n",
       " \n",
       " [24 rows x 2 columns],\n",
       "                      price   volume\n",
       " datetime                           \n",
       " 2024-01-06 00:00:00  52.50  17694.2\n",
       " 2024-01-06 01:00:00  45.00  18354.5\n",
       " ...                    ...      ...\n",
       " 2024-01-06 22:00:00  86.57  16715.4\n",
       " 2024-01-06 23:00:00  79.87  16940.2\n",
       " \n",
       " [24 rows x 2 columns],\n",
       "                      price   volume\n",
       " datetime                           \n",
       " 2024-01-12 00:00:00  88.98  13247.7\n",
       " 2024-01-12 01:00:00  86.45  12758.2\n",
       " ...                    ...      ...\n",
       " 2024-01-12 22:00:00  98.00  14288.9\n",
       " 2024-01-12 23:00:00  95.49  12204.8\n",
       " \n",
       " [24 rows x 2 columns],\n",
       "                      price   volume\n",
       " datetime                           \n",
       " 2024-01-04 00:00:00  90.39  11810.2\n",
       " 2024-01-04 01:00:00  87.00  10986.3\n",
       " ...                    ...      ...\n",
       " 2024-01-04 22:00:00  99.41  11621.0\n",
       " 2024-01-04 23:00:00  90.39  10504.6\n",
       " \n",
       " [24 rows x 2 columns],\n",
       "                       price   volume\n",
       " datetime                            \n",
       " 2024-01-10 00:00:00   92.33  13248.9\n",
       " 2024-01-10 01:00:00   90.12  12414.6\n",
       " ...                     ...      ...\n",
       " 2024-01-10 22:00:00  101.32  17623.9\n",
       " 2024-01-10 23:00:00   92.68  16414.0\n",
       " \n",
       " [24 rows x 2 columns],\n",
       "                       price   volume\n",
       " datetime                            \n",
       " 2024-01-11 00:00:00   91.75  16226.1\n",
       " 2024-01-11 01:00:00   86.18  16537.3\n",
       " ...                     ...      ...\n",
       " 2024-01-11 22:00:00  100.00  16872.5\n",
       " 2024-01-11 23:00:00   93.26  14289.9\n",
       " \n",
       " [24 rows x 2 columns],\n",
       "                      price   volume\n",
       " datetime                           \n",
       " 2024-01-05 00:00:00  86.08  10647.6\n",
       " 2024-01-05 01:00:00  80.51  10539.3\n",
       " ...                    ...      ...\n",
       " 2024-01-05 22:00:00  75.00  18745.0\n",
       " 2024-01-05 23:00:00  68.00  17550.5\n",
       " \n",
       " [24 rows x 2 columns],\n",
       "                      price   volume\n",
       " datetime                           \n",
       " 2024-01-01 00:00:00  63.33   8744.9\n",
       " 2024-01-01 01:00:00  50.09   8671.4\n",
       " ...                    ...      ...\n",
       " 2024-01-01 22:00:00  47.50  11154.9\n",
       " 2024-01-01 23:00:00  42.09  11000.1\n",
       " \n",
       " [24 rows x 2 columns],\n",
       "                      price   volume\n",
       " datetime                           \n",
       " 2024-01-15 00:00:00  77.70  17584.1\n",
       " 2024-01-15 01:00:00  67.00  17737.2\n",
       " ...                    ...      ...\n",
       " 2024-01-15 22:00:00  97.21  14812.9\n",
       " 2024-01-15 23:00:00  91.00  13943.0\n",
       " \n",
       " [24 rows x 2 columns],\n",
       "                      price   volume\n",
       " datetime                           \n",
       " 2024-01-29 00:00:00  49.97  13017.2\n",
       " 2024-01-29 01:00:00  47.26  13255.8\n",
       " ...                    ...      ...\n",
       " 2024-01-29 22:00:00  87.00  11505.3\n",
       " 2024-01-29 23:00:00  80.29  10549.0\n",
       " \n",
       " [24 rows x 2 columns],\n",
       "                      price   volume\n",
       " datetime                           \n",
       " 2024-01-28 00:00:00  62.03  13121.8\n",
       " 2024-01-28 01:00:00  58.20  13563.5\n",
       " ...                    ...      ...\n",
       " 2024-01-28 22:00:00  60.34  13120.3\n",
       " 2024-01-28 23:00:00  56.00  13447.5\n",
       " \n",
       " [24 rows x 2 columns],\n",
       "                      price   volume\n",
       " datetime                           \n",
       " 2024-01-14 00:00:00  86.10  11819.3\n",
       " 2024-01-14 01:00:00  82.78  12623.7\n",
       " ...                    ...      ...\n",
       " 2024-01-14 22:00:00  82.97  15616.9\n",
       " 2024-01-14 23:00:00  72.52  15710.7\n",
       " \n",
       " [24 rows x 2 columns],\n",
       "                      price   volume\n",
       " datetime                           \n",
       " 2024-01-16 00:00:00  86.59  14127.6\n",
       " 2024-01-16 01:00:00  83.33  13694.2\n",
       " ...                    ...      ...\n",
       " 2024-01-16 22:00:00  75.99  17698.3\n",
       " 2024-01-16 23:00:00  60.00  18659.0\n",
       " \n",
       " [24 rows x 2 columns],\n",
       "                      price   volume\n",
       " datetime                           \n",
       " 2024-01-02 00:00:00  37.80  11641.3\n",
       " 2024-01-02 01:00:00  25.00  12463.1\n",
       " ...                    ...      ...\n",
       " 2024-01-02 22:00:00  46.26  14386.8\n",
       " 2024-01-02 23:00:00  40.10  14229.0\n",
       " \n",
       " [24 rows x 2 columns],\n",
       "                      price   volume\n",
       " datetime                           \n",
       " 2024-01-03 00:00:00   6.80  18024.9\n",
       " 2024-01-03 01:00:00   3.20  17142.7\n",
       " ...                    ...      ...\n",
       " 2024-01-03 22:00:00  94.20  12815.5\n",
       " 2024-01-03 23:00:00  86.58  11284.7\n",
       " \n",
       " [24 rows x 2 columns],\n",
       "                      price   volume\n",
       " datetime                           \n",
       " 2024-01-17 00:00:00  19.13  19595.4\n",
       " 2024-01-17 01:00:00  15.93  19525.0\n",
       " ...                    ...      ...\n",
       " 2024-01-17 22:00:00  43.37  20638.4\n",
       " 2024-01-17 23:00:00  18.03  20978.1\n",
       " \n",
       " [24 rows x 2 columns],\n",
       "                      price   volume\n",
       " datetime                           \n",
       " 2024-01-26 00:00:00  63.37  11775.5\n",
       " 2024-01-26 01:00:00  65.00   9956.0\n",
       " ...                    ...      ...\n",
       " 2024-01-26 22:00:00  74.98  11978.7\n",
       " 2024-01-26 23:00:00  70.45  11216.1\n",
       " \n",
       " [24 rows x 2 columns],\n",
       "                      price   volume\n",
       " datetime                           \n",
       " 2024-01-27 00:00:00  64.97  11101.7\n",
       " 2024-01-27 01:00:00  61.06  10368.3\n",
       " ...                    ...      ...\n",
       " 2024-01-27 22:00:00  75.97  10147.3\n",
       " 2024-01-27 23:00:00  72.70  10443.5\n",
       " \n",
       " [24 rows x 2 columns],\n",
       "                      price   volume\n",
       " datetime                           \n",
       " 2024-01-19 00:00:00  71.82  13611.3\n",
       " 2024-01-19 01:00:00  67.44  13982.0\n",
       " ...                    ...      ...\n",
       " 2024-01-19 22:00:00  74.40  19075.7\n",
       " 2024-01-19 23:00:00  61.00  18742.5\n",
       " \n",
       " [24 rows x 2 columns],\n",
       "                      price   volume\n",
       " datetime                           \n",
       " 2024-01-25 00:00:00  64.97  12735.9\n",
       " 2024-01-25 01:00:00  60.53  12853.2\n",
       " ...                    ...      ...\n",
       " 2024-01-25 22:00:00  80.95  13043.0\n",
       " 2024-01-25 23:00:00  73.58  12008.1\n",
       " \n",
       " [24 rows x 2 columns],\n",
       "                      price   volume\n",
       " datetime                           \n",
       " 2024-01-31 00:00:00  74.09  12153.0\n",
       " 2024-01-31 01:00:00  71.48  12023.1\n",
       " ...                    ...      ...\n",
       " 2024-01-31 22:00:00  85.00  12171.6\n",
       " 2024-01-31 23:00:00  77.52  10826.8\n",
       " \n",
       " [24 rows x 2 columns],\n",
       "                      price   volume\n",
       " datetime                           \n",
       " 2024-01-30 00:00:00  71.94  12701.7\n",
       " 2024-01-30 01:00:00  68.64  12471.6\n",
       " ...                    ...      ...\n",
       " 2024-01-30 22:00:00  88.70  12044.1\n",
       " 2024-01-30 23:00:00  78.78  11287.0\n",
       " \n",
       " [24 rows x 2 columns],\n",
       "                      price   volume\n",
       " datetime                           \n",
       " 2024-01-24 00:00:00  86.00  11472.8\n",
       " 2024-01-24 01:00:00  78.93  10998.7\n",
       " ...                    ...      ...\n",
       " 2024-01-24 22:00:00  88.04  13670.0\n",
       " 2024-01-24 23:00:00  74.86  12417.1\n",
       " \n",
       " [24 rows x 2 columns],\n",
       "                      price   volume\n",
       " datetime                           \n",
       " 2024-01-18 00:00:00   3.20  20377.3\n",
       " 2024-01-18 01:00:00   3.20  19557.4\n",
       " ...                    ...      ...\n",
       " 2024-01-18 22:00:00  92.14  13773.8\n",
       " 2024-01-18 23:00:00  73.61  12948.8\n",
       " \n",
       " [24 rows x 2 columns],\n",
       "                      price   volume\n",
       " datetime                           \n",
       " 2024-01-20 00:00:00  73.75  16796.4\n",
       " 2024-01-20 01:00:00  63.92  16506.4\n",
       " ...                    ...      ...\n",
       " 2024-01-20 22:00:00  94.46  11606.7\n",
       " 2024-01-20 23:00:00  85.78  10392.9\n",
       " \n",
       " [24 rows x 2 columns],\n",
       "                       price   volume\n",
       " datetime                            \n",
       " 2024-01-08 00:00:00   86.97  14282.6\n",
       " 2024-01-08 01:00:00   84.18  14791.0\n",
       " ...                     ...      ...\n",
       " 2024-01-08 22:00:00  115.42  15463.9\n",
       " 2024-01-08 23:00:00  107.98  13013.1\n",
       " \n",
       " [24 rows x 2 columns],\n",
       "                       price   volume\n",
       " datetime                            \n",
       " 2024-01-09 00:00:00   98.92  14274.8\n",
       " 2024-01-09 01:00:00  100.00  13064.9\n",
       " ...                     ...      ...\n",
       " 2024-01-09 22:00:00  111.86  16808.3\n",
       " 2024-01-09 23:00:00  106.11  15066.2\n",
       " \n",
       " [24 rows x 2 columns],\n",
       "                      price   volume\n",
       " datetime                           \n",
       " 2024-01-21 00:00:00  69.07  12218.0\n",
       " 2024-01-21 01:00:00  59.11  12041.6\n",
       " ...                    ...      ...\n",
       " 2024-01-21 22:00:00  76.83  11943.5\n",
       " 2024-01-21 23:00:00  59.20  12479.8\n",
       " \n",
       " [24 rows x 2 columns],\n",
       "                      price   volume\n",
       " datetime                           \n",
       " 2024-01-23 00:00:00  61.10  14460.4\n",
       " 2024-01-23 01:00:00  59.00  14371.5\n",
       " ...                    ...      ...\n",
       " 2024-01-23 22:00:00  92.50  13970.2\n",
       " 2024-01-23 23:00:00  84.51  12177.2\n",
       " \n",
       " [24 rows x 2 columns],\n",
       "                      price   volume\n",
       " datetime                           \n",
       " 2024-01-22 00:00:00  47.00  13323.8\n",
       " 2024-01-22 01:00:00  41.80  14179.4\n",
       " ...                    ...      ...\n",
       " 2024-01-22 22:00:00  94.27  13673.7\n",
       " 2024-01-22 23:00:00  75.93  13030.4\n",
       " \n",
       " [24 rows x 2 columns]]"
      ]
     },
     "execution_count": 96,
     "metadata": {},
     "output_type": "execute_result"
    }
   ],
   "source": [
    "dfs"
   ]
  },
  {
   "cell_type": "markdown",
   "metadata": {},
   "source": [
    "### Concatenate `DataFrames`"
   ]
  },
  {
   "cell_type": "code",
   "execution_count": 97,
   "metadata": {},
   "outputs": [],
   "source": [
    "df = pd.concat(dfs)"
   ]
  },
  {
   "cell_type": "code",
   "execution_count": 98,
   "metadata": {},
   "outputs": [
    {
     "data": {
      "text/html": [
       "<div>\n",
       "<style scoped>\n",
       "    .dataframe tbody tr th:only-of-type {\n",
       "        vertical-align: middle;\n",
       "    }\n",
       "\n",
       "    .dataframe tbody tr th {\n",
       "        vertical-align: top;\n",
       "    }\n",
       "\n",
       "    .dataframe thead th {\n",
       "        text-align: right;\n",
       "    }\n",
       "</style>\n",
       "<table border=\"1\" class=\"dataframe\">\n",
       "  <thead>\n",
       "    <tr style=\"text-align: right;\">\n",
       "      <th></th>\n",
       "      <th>price</th>\n",
       "      <th>volume</th>\n",
       "    </tr>\n",
       "    <tr>\n",
       "      <th>datetime</th>\n",
       "      <th></th>\n",
       "      <th></th>\n",
       "    </tr>\n",
       "  </thead>\n",
       "  <tbody>\n",
       "    <tr>\n",
       "      <th>2024-01-13 00:00:00</th>\n",
       "      <td>90.00</td>\n",
       "      <td>11273.5</td>\n",
       "    </tr>\n",
       "    <tr>\n",
       "      <th>2024-01-13 01:00:00</th>\n",
       "      <td>87.48</td>\n",
       "      <td>11401.8</td>\n",
       "    </tr>\n",
       "    <tr>\n",
       "      <th>...</th>\n",
       "      <td>...</td>\n",
       "      <td>...</td>\n",
       "    </tr>\n",
       "    <tr>\n",
       "      <th>2024-01-22 22:00:00</th>\n",
       "      <td>94.27</td>\n",
       "      <td>13673.7</td>\n",
       "    </tr>\n",
       "    <tr>\n",
       "      <th>2024-01-22 23:00:00</th>\n",
       "      <td>75.93</td>\n",
       "      <td>13030.4</td>\n",
       "    </tr>\n",
       "  </tbody>\n",
       "</table>\n",
       "<p>744 rows × 2 columns</p>\n",
       "</div>"
      ],
      "text/plain": [
       "                     price   volume\n",
       "datetime                           \n",
       "2024-01-13 00:00:00  90.00  11273.5\n",
       "2024-01-13 01:00:00  87.48  11401.8\n",
       "...                    ...      ...\n",
       "2024-01-22 22:00:00  94.27  13673.7\n",
       "2024-01-22 23:00:00  75.93  13030.4\n",
       "\n",
       "[744 rows x 2 columns]"
      ]
     },
     "execution_count": 98,
     "metadata": {},
     "output_type": "execute_result"
    }
   ],
   "source": [
    "df"
   ]
  },
  {
   "cell_type": "markdown",
   "metadata": {},
   "source": [
    "## Create new columns"
   ]
  },
  {
   "cell_type": "code",
   "execution_count": 99,
   "metadata": {},
   "outputs": [],
   "source": [
    "df['cost'] = df['price'] * df['volume']"
   ]
  },
  {
   "cell_type": "code",
   "execution_count": 103,
   "metadata": {},
   "outputs": [],
   "source": [
    "df = df.sort_index()"
   ]
  },
  {
   "cell_type": "code",
   "execution_count": 104,
   "metadata": {},
   "outputs": [
    {
     "data": {
      "text/html": [
       "<div>\n",
       "<style scoped>\n",
       "    .dataframe tbody tr th:only-of-type {\n",
       "        vertical-align: middle;\n",
       "    }\n",
       "\n",
       "    .dataframe tbody tr th {\n",
       "        vertical-align: top;\n",
       "    }\n",
       "\n",
       "    .dataframe thead th {\n",
       "        text-align: right;\n",
       "    }\n",
       "</style>\n",
       "<table border=\"1\" class=\"dataframe\">\n",
       "  <thead>\n",
       "    <tr style=\"text-align: right;\">\n",
       "      <th></th>\n",
       "      <th>price</th>\n",
       "      <th>volume</th>\n",
       "      <th>cost</th>\n",
       "    </tr>\n",
       "    <tr>\n",
       "      <th>datetime</th>\n",
       "      <th></th>\n",
       "      <th></th>\n",
       "      <th></th>\n",
       "    </tr>\n",
       "  </thead>\n",
       "  <tbody>\n",
       "    <tr>\n",
       "      <th>2024-01-01 00:00:00</th>\n",
       "      <td>63.33</td>\n",
       "      <td>8744.9</td>\n",
       "      <td>553814.517</td>\n",
       "    </tr>\n",
       "    <tr>\n",
       "      <th>2024-01-01 01:00:00</th>\n",
       "      <td>50.09</td>\n",
       "      <td>8671.4</td>\n",
       "      <td>434350.426</td>\n",
       "    </tr>\n",
       "    <tr>\n",
       "      <th>...</th>\n",
       "      <td>...</td>\n",
       "      <td>...</td>\n",
       "      <td>...</td>\n",
       "    </tr>\n",
       "    <tr>\n",
       "      <th>2024-01-31 22:00:00</th>\n",
       "      <td>85.00</td>\n",
       "      <td>12171.6</td>\n",
       "      <td>1034586.000</td>\n",
       "    </tr>\n",
       "    <tr>\n",
       "      <th>2024-01-31 23:00:00</th>\n",
       "      <td>77.52</td>\n",
       "      <td>10826.8</td>\n",
       "      <td>839293.536</td>\n",
       "    </tr>\n",
       "  </tbody>\n",
       "</table>\n",
       "<p>744 rows × 3 columns</p>\n",
       "</div>"
      ],
      "text/plain": [
       "                     price   volume         cost\n",
       "datetime                                        \n",
       "2024-01-01 00:00:00  63.33   8744.9   553814.517\n",
       "2024-01-01 01:00:00  50.09   8671.4   434350.426\n",
       "...                    ...      ...          ...\n",
       "2024-01-31 22:00:00  85.00  12171.6  1034586.000\n",
       "2024-01-31 23:00:00  77.52  10826.8   839293.536\n",
       "\n",
       "[744 rows x 3 columns]"
      ]
     },
     "execution_count": 104,
     "metadata": {},
     "output_type": "execute_result"
    }
   ],
   "source": [
    "df"
   ]
  },
  {
   "cell_type": "markdown",
   "metadata": {},
   "source": [
    "## Filter dates"
   ]
  },
  {
   "cell_type": "code",
   "execution_count": 107,
   "metadata": {},
   "outputs": [
    {
     "data": {
      "text/plain": [
       "array([<Axes: xlabel='datetime'>, <Axes: xlabel='datetime'>,\n",
       "       <Axes: xlabel='datetime'>], dtype=object)"
      ]
     },
     "execution_count": 107,
     "metadata": {},
     "output_type": "execute_result"
    },
    {
     "data": {
      "image/png": "[encoded data removed]",
      "text/plain": [
       "<Figure size 640x480 with 3 Axes>"
      ]
     },
     "metadata": {},
     "output_type": "display_data"
    }
   ],
   "source": [
    "df.loc['2024-01-01':'2024-01-07'].plot(subplots=True)"
   ]
  },
  {
   "cell_type": "code",
   "execution_count": null,
   "metadata": {},
   "outputs": [
    {
     "data": {
      "text/html": [
       "<div>\n",
       "<style scoped>\n",
       "    .dataframe tbody tr th:only-of-type {\n",
       "        vertical-align: middle;\n",
       "    }\n",
       "\n",
       "    .dataframe tbody tr th {\n",
       "        vertical-align: top;\n",
       "    }\n",
       "\n",
       "    .dataframe thead th {\n",
       "        text-align: right;\n",
       "    }\n",
       "</style>\n",
       "<table border=\"1\" class=\"dataframe\">\n",
       "  <thead>\n",
       "    <tr style=\"text-align: right;\">\n",
       "      <th></th>\n",
       "      <th>price</th>\n",
       "      <th>volume</th>\n",
       "      <th>cost</th>\n",
       "    </tr>\n",
       "    <tr>\n",
       "      <th>datetime</th>\n",
       "      <th></th>\n",
       "      <th></th>\n",
       "      <th></th>\n",
       "    </tr>\n",
       "  </thead>\n",
       "  <tbody>\n",
       "    <tr>\n",
       "      <th>2024-01-01 00:00:00</th>\n",
       "      <td>63.33</td>\n",
       "      <td>8744.9</td>\n",
       "      <td>553814.517</td>\n",
       "    </tr>\n",
       "    <tr>\n",
       "      <th>2024-01-01 01:00:00</th>\n",
       "      <td>50.09</td>\n",
       "      <td>8671.4</td>\n",
       "      <td>434350.426</td>\n",
       "    </tr>\n",
       "    <tr>\n",
       "      <th>...</th>\n",
       "      <td>...</td>\n",
       "      <td>...</td>\n",
       "      <td>...</td>\n",
       "    </tr>\n",
       "    <tr>\n",
       "      <th>2024-01-31 22:00:00</th>\n",
       "      <td>85.00</td>\n",
       "      <td>12171.6</td>\n",
       "      <td>1034586.000</td>\n",
       "    </tr>\n",
       "    <tr>\n",
       "      <th>2024-01-31 23:00:00</th>\n",
       "      <td>77.52</td>\n",
       "      <td>10826.8</td>\n",
       "      <td>839293.536</td>\n",
       "    </tr>\n",
       "  </tbody>\n",
       "</table>\n",
       "<p>744 rows × 3 columns</p>\n",
       "</div>"
      ],
      "text/plain": [
       "                     price   volume         cost\n",
       "datetime                                        \n",
       "2024-01-01 00:00:00  63.33   8744.9   553814.517\n",
       "2024-01-01 01:00:00  50.09   8671.4   434350.426\n",
       "...                    ...      ...          ...\n",
       "2024-01-31 22:00:00  85.00  12171.6  1034586.000\n",
       "2024-01-31 23:00:00  77.52  10826.8   839293.536\n",
       "\n",
       "[744 rows x 3 columns]"
      ]
     },
     "execution_count": null,
     "metadata": {},
     "output_type": "execute_result"
    }
   ],
   "source": []
  },
  {
   "cell_type": "markdown",
   "metadata": {},
   "source": [
    "## Export to Excel"
   ]
  },
  {
   "cell_type": "code",
   "execution_count": 110,
   "metadata": {},
   "outputs": [],
   "source": [
    "df.to_excel('../data/processed/2024-01.xlsx')"
   ]
  }
 ],
 "metadata": {
  "kernelspec": {
   "display_name": "Python (work)",
   "language": "python",
   "name": "work"
  },
  "language_info": {
   "codemirror_mode": {
    "name": "ipython",
    "version": 3
   },
   "file_extension": ".py",
   "mimetype": "text/x-python",
   "name": "python",
   "nbconvert_exporter": "python",
   "pygments_lexer": "ipython3",
   "version": "3.12.2"
  }
 },
 "nbformat": 4,
 "nbformat_minor": 4
}
