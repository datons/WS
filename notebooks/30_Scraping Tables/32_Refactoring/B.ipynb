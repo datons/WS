{
 "cells": [
  {
   "cell_type": "markdown",
   "id": "4ff6185a-8dae-4cf7-a5fb-cadfd41d0358",
   "metadata": {},
   "source": [
    "## Create module with function"
   ]
  },
  {
   "cell_type": "markdown",
   "id": "048cb9ab-3e60-4981-9555-c28d0beb6848",
   "metadata": {},
   "source": [
    "## Import module"
   ]
  },
  {
   "cell_type": "code",
   "execution_count": 24,
   "id": "c77ecdab-1890-4c8a-89de-fdb16f55ea5c",
   "metadata": {},
   "outputs": [],
   "source": [
    "import sys\n",
    "sys.path.append('../../../modules/')"
   ]
  },
  {
   "cell_type": "code",
   "execution_count": 25,
   "id": "b2171c38-a030-405d-adb3-0bd4ecfd8853",
   "metadata": {},
   "outputs": [],
   "source": [
    "import omie_scrap"
   ]
  },
  {
   "cell_type": "markdown",
   "id": "c6abf088-bd16-4248-b8e1-76b49b94686c",
   "metadata": {},
   "source": [
    "## Couple of examples"
   ]
  },
  {
   "cell_type": "code",
   "execution_count": 26,
   "id": "0c6d4f7d-dbf8-457d-9487-7c9fb998b7e9",
   "metadata": {},
   "outputs": [],
   "source": [
    "import pandas as pd"
   ]
  },
  {
   "cell_type": "code",
   "execution_count": 33,
   "id": "e4a2227b-a4f4-46cc-844d-2b9d8586b834",
   "metadata": {},
   "outputs": [],
   "source": [
    "dates = pd.date_range(\n",
    "    start='2024-01-01',\n",
    "    end='2024-01-31',\n",
    "    freq='1D'\n",
    ")"
   ]
  },
  {
   "cell_type": "code",
   "execution_count": 34,
   "id": "fdbcca8d-cf2b-489b-82d6-17e1279343e0",
   "metadata": {},
   "outputs": [],
   "source": [
    "dates = dates.date"
   ]
  },
  {
   "cell_type": "code",
   "execution_count": 35,
   "id": "7979588b-6c4b-4f64-a714-f12abe7d344b",
   "metadata": {},
   "outputs": [
    {
     "data": {
      "text/plain": [
       "datetime.date(2024, 1, 1)"
      ]
     },
     "execution_count": 35,
     "metadata": {},
     "output_type": "execute_result"
    }
   ],
   "source": [
    "date = dates[0]\n",
    "date"
   ]
  },
  {
   "cell_type": "code",
   "execution_count": 37,
   "id": "21f3cab4-a833-461c-abe0-2f4dcd413a44",
   "metadata": {},
   "outputs": [
    {
     "data": {
      "text/html": [
       "<div>\n",
       "<style scoped>\n",
       "    .dataframe tbody tr th:only-of-type {\n",
       "        vertical-align: middle;\n",
       "    }\n",
       "\n",
       "    .dataframe tbody tr th {\n",
       "        vertical-align: top;\n",
       "    }\n",
       "\n",
       "    .dataframe thead th {\n",
       "        text-align: right;\n",
       "    }\n",
       "</style>\n",
       "<table border=\"1\" class=\"dataframe\">\n",
       "  <thead>\n",
       "    <tr style=\"text-align: right;\">\n",
       "      <th></th>\n",
       "      <th>Hours</th>\n",
       "      <th>Price (€)</th>\n",
       "      <th>Volume (MWh)</th>\n",
       "    </tr>\n",
       "  </thead>\n",
       "  <tbody>\n",
       "    <tr>\n",
       "      <th>0</th>\n",
       "      <td>00h-01h</td>\n",
       "      <td>63.33</td>\n",
       "      <td>8744.9</td>\n",
       "    </tr>\n",
       "    <tr>\n",
       "      <th>1</th>\n",
       "      <td>01h-02h</td>\n",
       "      <td>50.09</td>\n",
       "      <td>8671.4</td>\n",
       "    </tr>\n",
       "    <tr>\n",
       "      <th>...</th>\n",
       "      <td>...</td>\n",
       "      <td>...</td>\n",
       "      <td>...</td>\n",
       "    </tr>\n",
       "    <tr>\n",
       "      <th>22</th>\n",
       "      <td>22h-23h</td>\n",
       "      <td>47.50</td>\n",
       "      <td>11154.9</td>\n",
       "    </tr>\n",
       "    <tr>\n",
       "      <th>23</th>\n",
       "      <td>23h-24h</td>\n",
       "      <td>42.09</td>\n",
       "      <td>11000.1</td>\n",
       "    </tr>\n",
       "  </tbody>\n",
       "</table>\n",
       "<p>24 rows × 3 columns</p>\n",
       "</div>"
      ],
      "text/plain": [
       "      Hours  Price (€)  Volume (MWh)\n",
       "0   00h-01h      63.33        8744.9\n",
       "1   01h-02h      50.09        8671.4\n",
       "..      ...        ...           ...\n",
       "22  22h-23h      47.50       11154.9\n",
       "23  23h-24h      42.09       11000.1\n",
       "\n",
       "[24 rows x 3 columns]"
      ]
     },
     "execution_count": 37,
     "metadata": {},
     "output_type": "execute_result"
    }
   ],
   "source": [
    "df = omie_scrap.download_omie(date, path='../data/raw/')\n",
    "df"
   ]
  },
  {
   "cell_type": "code",
   "execution_count": 38,
   "id": "3c119734-16cb-4b90-b615-d8c6ef0aa958",
   "metadata": {},
   "outputs": [
    {
     "data": {
      "text/plain": [
       "datetime.date(2024, 1, 2)"
      ]
     },
     "execution_count": 38,
     "metadata": {},
     "output_type": "execute_result"
    }
   ],
   "source": [
    "date = dates[1]\n",
    "date"
   ]
  },
  {
   "cell_type": "code",
   "execution_count": 39,
   "id": "e1cb2648-3afb-4e0f-bacb-00582638c4a9",
   "metadata": {},
   "outputs": [
    {
     "data": {
      "text/html": [
       "<div>\n",
       "<style scoped>\n",
       "    .dataframe tbody tr th:only-of-type {\n",
       "        vertical-align: middle;\n",
       "    }\n",
       "\n",
       "    .dataframe tbody tr th {\n",
       "        vertical-align: top;\n",
       "    }\n",
       "\n",
       "    .dataframe thead th {\n",
       "        text-align: right;\n",
       "    }\n",
       "</style>\n",
       "<table border=\"1\" class=\"dataframe\">\n",
       "  <thead>\n",
       "    <tr style=\"text-align: right;\">\n",
       "      <th></th>\n",
       "      <th>Hours</th>\n",
       "      <th>Price (€)</th>\n",
       "      <th>Volume (MWh)</th>\n",
       "    </tr>\n",
       "  </thead>\n",
       "  <tbody>\n",
       "    <tr>\n",
       "      <th>0</th>\n",
       "      <td>00h-01h</td>\n",
       "      <td>37.80</td>\n",
       "      <td>11641.3</td>\n",
       "    </tr>\n",
       "    <tr>\n",
       "      <th>1</th>\n",
       "      <td>01h-02h</td>\n",
       "      <td>25.00</td>\n",
       "      <td>12463.1</td>\n",
       "    </tr>\n",
       "    <tr>\n",
       "      <th>...</th>\n",
       "      <td>...</td>\n",
       "      <td>...</td>\n",
       "      <td>...</td>\n",
       "    </tr>\n",
       "    <tr>\n",
       "      <th>22</th>\n",
       "      <td>22h-23h</td>\n",
       "      <td>46.26</td>\n",
       "      <td>14386.8</td>\n",
       "    </tr>\n",
       "    <tr>\n",
       "      <th>23</th>\n",
       "      <td>23h-24h</td>\n",
       "      <td>40.10</td>\n",
       "      <td>14229.0</td>\n",
       "    </tr>\n",
       "  </tbody>\n",
       "</table>\n",
       "<p>24 rows × 3 columns</p>\n",
       "</div>"
      ],
      "text/plain": [
       "      Hours  Price (€)  Volume (MWh)\n",
       "0   00h-01h      37.80       11641.3\n",
       "1   01h-02h      25.00       12463.1\n",
       "..      ...        ...           ...\n",
       "22  22h-23h      46.26       14386.8\n",
       "23  23h-24h      40.10       14229.0\n",
       "\n",
       "[24 rows x 3 columns]"
      ]
     },
     "execution_count": 39,
     "metadata": {},
     "output_type": "execute_result"
    }
   ],
   "source": [
    "df = omie_scrap.download_omie(date, path='../data/raw/')\n",
    "df"
   ]
  },
  {
   "cell_type": "markdown",
   "id": "90ab00af-c6f7-4c5e-8471-5d43277eeefa",
   "metadata": {},
   "source": [
    "## Iterate over all elements"
   ]
  },
  {
   "cell_type": "code",
   "execution_count": 16,
   "id": "02740619-f944-42ff-8d4c-86053c892c84",
   "metadata": {},
   "outputs": [],
   "source": [
    "for date in dates:\n",
    "    omie_scrap.download_omie(date, path='../data/raw/')"
   ]
  },
  {
   "cell_type": "markdown",
   "id": "25c677aa-7701-4315-b1ba-68b07e9f03fb",
   "metadata": {},
   "source": [
    "## BONUS: Combine all files"
   ]
  },
  {
   "cell_type": "code",
   "execution_count": 42,
   "id": "d5a372a3-f6a3-4c62-8f25-cd2d14c818d1",
   "metadata": {},
   "outputs": [
    {
     "data": {
      "text/plain": [
       "['../data/raw/2024-01-13.csv',\n",
       " '../data/raw/2024-01-07.csv',\n",
       " '../data/raw/2024-01-06.csv',\n",
       " '../data/raw/2024-01-12.csv',\n",
       " '../data/raw/2024-01-04.csv',\n",
       " '../data/raw/2024-01-10.csv',\n",
       " '../data/raw/2024-01-11.csv',\n",
       " '../data/raw/2024-01-05.csv',\n",
       " '../data/raw/2024-01-01.csv',\n",
       " '../data/raw/2024-01-15.csv',\n",
       " '../data/raw/2024-01-29.csv',\n",
       " '../data/raw/2024-01-28.csv',\n",
       " '../data/raw/2024-01-14.csv',\n",
       " '../data/raw/2024-01-16.csv',\n",
       " '../data/raw/2024-01-02.csv',\n",
       " '../data/raw/2024-01-03.csv',\n",
       " '../data/raw/2024-01-17.csv',\n",
       " '../data/raw/2024-01-26.csv',\n",
       " '../data/raw/2024-01-27.csv',\n",
       " '../data/raw/2024-01-19.csv',\n",
       " '../data/raw/2024-01-25.csv',\n",
       " '../data/raw/2024-01-31.csv',\n",
       " '../data/raw/2024-01-30.csv',\n",
       " '../data/raw/2024-01-24.csv',\n",
       " '../data/raw/2024-01-18.csv',\n",
       " '../data/raw/2024-01-20.csv',\n",
       " '../data/raw/2024-01-08.csv',\n",
       " '../data/raw/2024-01-09.csv',\n",
       " '../data/raw/2024-01-21.csv',\n",
       " '../data/raw/2024-01-23.csv',\n",
       " '../data/raw/2024-01-22.csv']"
      ]
     },
     "execution_count": 42,
     "metadata": {},
     "output_type": "execute_result"
    }
   ],
   "source": [
    "import glob\n",
    "paths = glob.glob('../data/raw/*.csv')\n",
    "paths"
   ]
  },
  {
   "cell_type": "code",
   "execution_count": 43,
   "id": "66c48623-634c-488e-a5da-8099688a2e07",
   "metadata": {},
   "outputs": [
    {
     "data": {
      "text/html": [
       "<div>\n",
       "<style scoped>\n",
       "    .dataframe tbody tr th:only-of-type {\n",
       "        vertical-align: middle;\n",
       "    }\n",
       "\n",
       "    .dataframe tbody tr th {\n",
       "        vertical-align: top;\n",
       "    }\n",
       "\n",
       "    .dataframe thead th {\n",
       "        text-align: right;\n",
       "    }\n",
       "</style>\n",
       "<table border=\"1\" class=\"dataframe\">\n",
       "  <thead>\n",
       "    <tr style=\"text-align: right;\">\n",
       "      <th></th>\n",
       "      <th>Hours</th>\n",
       "      <th>Price (€)</th>\n",
       "      <th>Volume (MWh)</th>\n",
       "    </tr>\n",
       "  </thead>\n",
       "  <tbody>\n",
       "    <tr>\n",
       "      <th>0</th>\n",
       "      <td>00h-01h</td>\n",
       "      <td>90.00</td>\n",
       "      <td>11273.5</td>\n",
       "    </tr>\n",
       "    <tr>\n",
       "      <th>1</th>\n",
       "      <td>01h-02h</td>\n",
       "      <td>87.48</td>\n",
       "      <td>11401.8</td>\n",
       "    </tr>\n",
       "    <tr>\n",
       "      <th>...</th>\n",
       "      <td>...</td>\n",
       "      <td>...</td>\n",
       "      <td>...</td>\n",
       "    </tr>\n",
       "    <tr>\n",
       "      <th>22</th>\n",
       "      <td>22h-23h</td>\n",
       "      <td>94.27</td>\n",
       "      <td>13673.7</td>\n",
       "    </tr>\n",
       "    <tr>\n",
       "      <th>23</th>\n",
       "      <td>23h-24h</td>\n",
       "      <td>75.93</td>\n",
       "      <td>13030.4</td>\n",
       "    </tr>\n",
       "  </tbody>\n",
       "</table>\n",
       "<p>744 rows × 3 columns</p>\n",
       "</div>"
      ],
      "text/plain": [
       "      Hours  Price (€)  Volume (MWh)\n",
       "0   00h-01h      90.00       11273.5\n",
       "1   01h-02h      87.48       11401.8\n",
       "..      ...        ...           ...\n",
       "22  22h-23h      94.27       13673.7\n",
       "23  23h-24h      75.93       13030.4\n",
       "\n",
       "[744 rows x 3 columns]"
      ]
     },
     "execution_count": 43,
     "metadata": {},
     "output_type": "execute_result"
    }
   ],
   "source": [
    "dfs = []\n",
    "\n",
    "for path in paths:\n",
    "    df = pd.read_csv(path)\n",
    "    dfs.append(df)\n",
    "\n",
    "df = pd.concat(dfs)\n",
    "df"
   ]
  }
 ],
 "metadata": {
  "kernelspec": {
   "display_name": "Python (work)",
   "language": "python",
   "name": "work"
  },
  "language_info": {
   "codemirror_mode": {
    "name": "ipython",
    "version": 3
   },
   "file_extension": ".py",
   "mimetype": "text/x-python",
   "name": "python",
   "nbconvert_exporter": "python",
   "pygments_lexer": "ipython3",
   "version": "3.12.2"
  }
 },
 "nbformat": 4,
 "nbformat_minor": 5
}
