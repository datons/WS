{
 "cells": [
  {
   "attachments": {},
   "cell_type": "markdown",
   "id": "5c2892e3",
   "metadata": {
    "papermill": {
     "duration": 0.00579,
     "end_time": "2024-04-10T10:57:29.539670",
     "exception": false,
     "start_time": "2024-04-10T10:57:29.533880",
     "status": "completed"
    },
    "tags": []
   },
   "source": [
    "# Functions to avoid code repetition"
   ]
  },
  {
   "attachments": {},
   "cell_type": "markdown",
   "id": "cc47080f",
   "metadata": {
    "papermill": {
     "duration": 0.020703,
     "end_time": "2024-04-10T10:57:29.565291",
     "exception": false,
     "start_time": "2024-04-10T10:57:29.544588",
     "status": "completed"
    },
    "tags": []
   },
   "source": [
    "## Bring code here\n",
    "\n",
    "Copy and paste the essential code to call API and preprocess the data."
   ]
  },
  {
   "cell_type": "code",
   "execution_count": 1,
   "id": "39258cec",
   "metadata": {
    "execution": {
     "iopub.execute_input": "2024-04-10T10:57:29.570399Z",
     "iopub.status.busy": "2024-04-10T10:57:29.570142Z",
     "iopub.status.idle": "2024-04-10T10:57:31.247490Z",
     "shell.execute_reply": "2024-04-10T10:57:31.246766Z"
    },
    "papermill": {
     "duration": 1.681967,
     "end_time": "2024-04-10T10:57:31.249256",
     "exception": false,
     "start_time": "2024-04-10T10:57:29.567289",
     "status": "completed"
    },
    "tags": []
   },
   "outputs": [
    {
     "ename": "KeyError",
     "evalue": "'Time Series (Daily)'",
     "output_type": "error",
     "traceback": [
      "\u001b[0;31m---------------------------------------------------------------------------\u001b[0m",
      "\u001b[0;31mKeyError\u001b[0m                                  Traceback (most recent call last)",
      "Cell \u001b[0;32mIn[1], line 17\u001b[0m\n\u001b[1;32m     15\u001b[0m res \u001b[38;5;241m=\u001b[39m requests\u001b[38;5;241m.\u001b[39mget(url\u001b[38;5;241m=\u001b[39murl, params\u001b[38;5;241m=\u001b[39mparams)\n\u001b[1;32m     16\u001b[0m data \u001b[38;5;241m=\u001b[39m res\u001b[38;5;241m.\u001b[39mjson()\n\u001b[0;32m---> 17\u001b[0m df \u001b[38;5;241m=\u001b[39m pd\u001b[38;5;241m.\u001b[39mDataFrame(data[\u001b[38;5;124m'\u001b[39m\u001b[38;5;124mTime Series (Daily)\u001b[39m\u001b[38;5;124m'\u001b[39m])\n\u001b[1;32m     18\u001b[0m df \u001b[38;5;241m=\u001b[39m df\u001b[38;5;241m.\u001b[39mT\u001b[38;5;241m.\u001b[39mastype(\u001b[38;5;28mfloat\u001b[39m)\n\u001b[1;32m     19\u001b[0m df\u001b[38;5;241m.\u001b[39mcolumns \u001b[38;5;241m=\u001b[39m [\u001b[38;5;124m'\u001b[39m\u001b[38;5;124mopen\u001b[39m\u001b[38;5;124m'\u001b[39m, \u001b[38;5;124m'\u001b[39m\u001b[38;5;124mhigh\u001b[39m\u001b[38;5;124m'\u001b[39m, \u001b[38;5;124m'\u001b[39m\u001b[38;5;124mlow\u001b[39m\u001b[38;5;124m'\u001b[39m, \u001b[38;5;124m'\u001b[39m\u001b[38;5;124mclose\u001b[39m\u001b[38;5;124m'\u001b[39m, \u001b[38;5;124m'\u001b[39m\u001b[38;5;124mvolume\u001b[39m\u001b[38;5;124m'\u001b[39m]\n",
      "\u001b[0;31mKeyError\u001b[0m: 'Time Series (Daily)'"
     ]
    }
   ],
   "source": [
    "import requests\n",
    "import pandas as pd\n",
    "\n",
    "params = {\n",
    "    \"function\": \"TIME_SERIES_DAILY\",\n",
    "    \"symbol\": 'AAPL',\n",
    "    \"outputsize\": \"full\",\n",
    "    \"apikey\": \"EMZ0M6J3MBBCMTWG\"\n",
    "}\n",
    "\n",
    "URL_BASE = 'https://www.alphavantage.co/'\n",
    "ENDPOINT = 'query'\n",
    "url = URL_BASE + ENDPOINT\n",
    "\n",
    "res = requests.get(url=url, params=params)\n",
    "data = res.json()\n",
    "df = pd.DataFrame(data['Time Series (Daily)'])\n",
    "df = df.T.astype(float)\n",
    "df.columns = ['open', 'high', 'low', 'close', 'volume']\n",
    "df"
   ]
  },
  {
   "attachments": {},
   "cell_type": "markdown",
   "id": "865459a1",
   "metadata": {
    "papermill": {
     "duration": 0.002253,
     "end_time": "2024-04-10T10:57:31.253954",
     "exception": false,
     "start_time": "2024-04-10T10:57:31.251701",
     "status": "completed"
    },
    "tags": []
   },
   "source": [
    "## Create function\n",
    "\n",
    "What will you change if you want to download a different stock data?"
   ]
  },
  {
   "cell_type": "code",
   "execution_count": null,
   "id": "a5979e7c",
   "metadata": {
    "execution": {
     "iopub.execute_input": "2024-04-10T10:57:31.260700Z",
     "iopub.status.busy": "2024-04-10T10:57:31.260317Z",
     "iopub.status.idle": "2024-04-10T10:57:31.265835Z",
     "shell.execute_reply": "2024-04-10T10:57:31.265035Z"
    },
    "papermill": {
     "duration": 0.011433,
     "end_time": "2024-04-10T10:57:31.267832",
     "exception": false,
     "start_time": "2024-04-10T10:57:31.256399",
     "status": "completed"
    },
    "tags": []
   },
   "outputs": [],
   "source": [
    "def get_stock_data(symbol='IBM', apikey='EMZ0M6J3MBBCMTWG'):\n",
    "\n",
    "    params = {\n",
    "        \"function\": \"TIME_SERIES_DAILY\",\n",
    "        \"symbol\": symbol,\n",
    "        \"outputsize\": \"full\",\n",
    "        \"apikey\": apikey\n",
    "    }\n",
    "\n",
    "    URL_BASE = 'https://www.alphavantage.co/'\n",
    "    ENDPOINT = 'query'\n",
    "    url = URL_BASE + ENDPOINT\n",
    "\n",
    "    res = requests.get(url=url, params=params)\n",
    "    data = res.json()\n",
    "    \n",
    "    df = pd.DataFrame(data['Time Series (Daily)']).T.astype(float)\n",
    "    df.columns = ['open', 'high', 'low', 'close', 'volume']\n",
    "    df.index = pd.to_datetime(df.index)\n",
    "    df = df.sort_index()\n",
    "    \n",
    "    return df"
   ]
  },
  {
   "attachments": {},
   "cell_type": "markdown",
   "id": "018fadb1",
   "metadata": {
    "papermill": {
     "duration": 0.002123,
     "end_time": "2024-04-10T10:57:31.271875",
     "exception": false,
     "start_time": "2024-04-10T10:57:31.269752",
     "status": "completed"
    },
    "tags": []
   },
   "source": [
    "## Use the function\n",
    "\n",
    "Now you can use the function in one line of code to download and preprocess the data."
   ]
  },
  {
   "cell_type": "code",
   "execution_count": null,
   "id": "f6f64a6e",
   "metadata": {
    "execution": {
     "iopub.execute_input": "2024-04-10T10:57:31.277347Z",
     "iopub.status.busy": "2024-04-10T10:57:31.277073Z",
     "iopub.status.idle": "2024-04-10T10:57:31.280456Z",
     "shell.execute_reply": "2024-04-10T10:57:31.279837Z"
    },
    "papermill": {
     "duration": 0.007861,
     "end_time": "2024-04-10T10:57:31.281942",
     "exception": false,
     "start_time": "2024-04-10T10:57:31.274081",
     "status": "completed"
    },
    "tags": []
   },
   "outputs": [
    {
     "ename": "NameError",
     "evalue": "name 'get_stock_data' is not defined",
     "output_type": "error",
     "traceback": [
      "\u001b[0;31m---------------------------------------------------------------------------\u001b[0m",
      "\u001b[0;31mNameError\u001b[0m                                 Traceback (most recent call last)",
      "Cell \u001b[0;32mIn[1], line 1\u001b[0m\n\u001b[0;32m----> 1\u001b[0m df \u001b[38;5;241m=\u001b[39m get_stock_data(\u001b[38;5;124m'\u001b[39m\u001b[38;5;124mIBM\u001b[39m\u001b[38;5;124m'\u001b[39m)\n\u001b[1;32m      2\u001b[0m df\n",
      "\u001b[0;31mNameError\u001b[0m: name 'get_stock_data' is not defined"
     ]
    }
   ],
   "source": [
    "df = get_stock_data('GOOGL')\n",
    "df"
   ]
  },
  {
   "cell_type": "code",
   "execution_count": null,
   "id": "a9811510",
   "metadata": {},
   "outputs": [],
   "source": [
    "df = get_stock_data('AAPL')\n",
    "df"
   ]
  }
 ],
 "metadata": {
  "kernelspec": {
   "display_name": "datons.stories",
   "language": "python",
   "name": "python3"
  },
  "language_info": {
   "codemirror_mode": {
    "name": "ipython",
    "version": 3
   },
   "file_extension": ".py",
   "mimetype": "text/x-python",
   "name": "python",
   "nbconvert_exporter": "python",
   "pygments_lexer": "ipython3",
   "version": "3.12.2"
  },
  "papermill": {
   "default_parameters": {},
   "duration": 12.357238,
   "end_time": "2024-04-10T10:57:40.937385",
   "environment_variables": {},
   "exception": null,
   "input_path": "/Users/sota/Dropbox/2 Business/2 Areas/datons.academy/2 Areas/Products/Digital Courses/DAV/course-maven/solutions/notebooks/60_APIs/64_Custom Library/B.ipynb",
   "output_path": "/Users/sota/Dropbox/2 Business/2 Areas/datons.academy/2 Areas/Products/Digital Courses/DAV/course-maven/solutions/notebooks/60_APIs/64_Custom Library/B.ipynb",
   "parameters": {},
   "start_time": "2024-04-10T10:57:28.580147",
   "version": "2.5.0"
  }
 },
 "nbformat": 4,
 "nbformat_minor": 5
}
