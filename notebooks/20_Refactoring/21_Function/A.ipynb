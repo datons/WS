{
 "cells": [
  {
   "attachments": {},
   "cell_type": "markdown",
   "id": "5c2892e3",
   "metadata": {
    "papermill": {
     "duration": 0.00579,
     "end_time": "2024-04-10T10:57:29.539670",
     "exception": false,
     "start_time": "2024-04-10T10:57:29.533880",
     "status": "completed"
    },
    "tags": []
   },
   "source": [
    "# Custom function and library"
   ]
  },
  {
   "attachments": {},
   "cell_type": "markdown",
   "id": "cc47080f",
   "metadata": {
    "papermill": {
     "duration": 0.020703,
     "end_time": "2024-04-10T10:57:29.565291",
     "exception": false,
     "start_time": "2024-04-10T10:57:29.544588",
     "status": "completed"
    },
    "tags": []
   },
   "source": [
    "## Bring code here\n",
    "\n",
    "Copy and paste the essential code to call API and preprocess the data."
   ]
  },
  {
   "cell_type": "code",
   "execution_count": null,
   "id": "39258cec",
   "metadata": {
    "execution": {
     "iopub.execute_input": "2024-04-10T10:57:29.570399Z",
     "iopub.status.busy": "2024-04-10T10:57:29.570142Z",
     "iopub.status.idle": "2024-04-10T10:57:31.247490Z",
     "shell.execute_reply": "2024-04-10T10:57:31.246766Z"
    },
    "papermill": {
     "duration": 1.681967,
     "end_time": "2024-04-10T10:57:31.249256",
     "exception": false,
     "start_time": "2024-04-10T10:57:29.567289",
     "status": "completed"
    },
    "tags": []
   },
   "outputs": [
    {
     "data": {
      "text/html": [
       "<div>\n",
       "<style scoped>\n",
       "    .dataframe tbody tr th:only-of-type {\n",
       "        vertical-align: middle;\n",
       "    }\n",
       "\n",
       "    .dataframe tbody tr th {\n",
       "        vertical-align: top;\n",
       "    }\n",
       "\n",
       "    .dataframe thead th {\n",
       "        text-align: right;\n",
       "    }\n",
       "</style>\n",
       "<table border=\"1\" class=\"dataframe\">\n",
       "  <thead>\n",
       "    <tr style=\"text-align: right;\">\n",
       "      <th></th>\n",
       "      <th>open</th>\n",
       "      <th>high</th>\n",
       "      <th>low</th>\n",
       "      <th>close</th>\n",
       "      <th>volume</th>\n",
       "    </tr>\n",
       "  </thead>\n",
       "  <tbody>\n",
       "    <tr>\n",
       "      <th>2024-04-09</th>\n",
       "      <td>168.70</td>\n",
       "      <td>170.08</td>\n",
       "      <td>168.35</td>\n",
       "      <td>169.67</td>\n",
       "      <td>42231444.0</td>\n",
       "    </tr>\n",
       "    <tr>\n",
       "      <th>2024-04-08</th>\n",
       "      <td>169.03</td>\n",
       "      <td>169.20</td>\n",
       "      <td>168.24</td>\n",
       "      <td>168.45</td>\n",
       "      <td>37216858.0</td>\n",
       "    </tr>\n",
       "    <tr>\n",
       "      <th>...</th>\n",
       "      <td>...</td>\n",
       "      <td>...</td>\n",
       "      <td>...</td>\n",
       "      <td>...</td>\n",
       "      <td>...</td>\n",
       "    </tr>\n",
       "    <tr>\n",
       "      <th>1999-11-02</th>\n",
       "      <td>78.00</td>\n",
       "      <td>81.69</td>\n",
       "      <td>77.31</td>\n",
       "      <td>80.25</td>\n",
       "      <td>3564600.0</td>\n",
       "    </tr>\n",
       "    <tr>\n",
       "      <th>1999-11-01</th>\n",
       "      <td>80.00</td>\n",
       "      <td>80.69</td>\n",
       "      <td>77.37</td>\n",
       "      <td>77.62</td>\n",
       "      <td>2487300.0</td>\n",
       "    </tr>\n",
       "  </tbody>\n",
       "</table>\n",
       "<p>6148 rows × 5 columns</p>\n",
       "</div>"
      ],
      "text/plain": [
       "              open    high     low   close      volume\n",
       "2024-04-09  168.70  170.08  168.35  169.67  42231444.0\n",
       "2024-04-08  169.03  169.20  168.24  168.45  37216858.0\n",
       "...            ...     ...     ...     ...         ...\n",
       "1999-11-02   78.00   81.69   77.31   80.25   3564600.0\n",
       "1999-11-01   80.00   80.69   77.37   77.62   2487300.0\n",
       "\n",
       "[6148 rows x 5 columns]"
      ]
     },
     "execution_count": null,
     "metadata": {},
     "output_type": "execute_result"
    }
   ],
   "source": []
  },
  {
   "attachments": {},
   "cell_type": "markdown",
   "id": "865459a1",
   "metadata": {
    "papermill": {
     "duration": 0.002253,
     "end_time": "2024-04-10T10:57:31.253954",
     "exception": false,
     "start_time": "2024-04-10T10:57:31.251701",
     "status": "completed"
    },
    "tags": []
   },
   "source": [
    "## Create function\n",
    "\n",
    "What will you change if you want to download a different stock data?"
   ]
  },
  {
   "cell_type": "code",
   "execution_count": null,
   "id": "a5979e7c",
   "metadata": {
    "execution": {
     "iopub.execute_input": "2024-04-10T10:57:31.260700Z",
     "iopub.status.busy": "2024-04-10T10:57:31.260317Z",
     "iopub.status.idle": "2024-04-10T10:57:31.265835Z",
     "shell.execute_reply": "2024-04-10T10:57:31.265035Z"
    },
    "papermill": {
     "duration": 0.011433,
     "end_time": "2024-04-10T10:57:31.267832",
     "exception": false,
     "start_time": "2024-04-10T10:57:31.256399",
     "status": "completed"
    },
    "tags": []
   },
   "outputs": [],
   "source": []
  },
  {
   "attachments": {},
   "cell_type": "markdown",
   "id": "018fadb1",
   "metadata": {
    "papermill": {
     "duration": 0.002123,
     "end_time": "2024-04-10T10:57:31.271875",
     "exception": false,
     "start_time": "2024-04-10T10:57:31.269752",
     "status": "completed"
    },
    "tags": []
   },
   "source": [
    "## Call function for multiple stocks\n",
    "\n",
    "To avoid downloading the same data multiple times, we can cache the data by saving it to a file."
   ]
  },
  {
   "cell_type": "code",
   "execution_count": null,
   "id": "f6f64a6e",
   "metadata": {
    "execution": {
     "iopub.execute_input": "2024-04-10T10:57:31.277347Z",
     "iopub.status.busy": "2024-04-10T10:57:31.277073Z",
     "iopub.status.idle": "2024-04-10T10:57:31.280456Z",
     "shell.execute_reply": "2024-04-10T10:57:31.279837Z"
    },
    "papermill": {
     "duration": 0.007861,
     "end_time": "2024-04-10T10:57:31.281942",
     "exception": false,
     "start_time": "2024-04-10T10:57:31.274081",
     "status": "completed"
    },
    "tags": []
   },
   "outputs": [],
   "source": []
  },
  {
   "cell_type": "code",
   "execution_count": null,
   "id": "af864f50",
   "metadata": {
    "execution": {
     "iopub.execute_input": "2024-04-10T10:57:31.287163Z",
     "iopub.status.busy": "2024-04-10T10:57:31.286931Z",
     "iopub.status.idle": "2024-04-10T10:57:40.608894Z",
     "shell.execute_reply": "2024-04-10T10:57:40.607977Z"
    },
    "papermill": {
     "duration": 9.327024,
     "end_time": "2024-04-10T10:57:40.610841",
     "exception": false,
     "start_time": "2024-04-10T10:57:31.283817",
     "status": "completed"
    },
    "tags": []
   },
   "outputs": [],
   "source": []
  }
 ],
 "metadata": {
  "kernelspec": {
   "display_name": "datons.stories",
   "language": "python",
   "name": "python3"
  },
  "language_info": {
   "codemirror_mode": {
    "name": "ipython",
    "version": 3
   },
   "file_extension": ".py",
   "mimetype": "text/x-python",
   "name": "python",
   "nbconvert_exporter": "python",
   "pygments_lexer": "ipython3",
   "version": "3.12.0"
  },
  "papermill": {
   "default_parameters": {},
   "duration": 12.357238,
   "end_time": "2024-04-10T10:57:40.937385",
   "environment_variables": {},
   "exception": null,
   "input_path": "/Users/sota/Dropbox/2 Business/2 Areas/datons.academy/2 Areas/Products/Digital Courses/DAV/course-maven/solutions/notebooks/60_APIs/64_Custom Library/B.ipynb",
   "output_path": "/Users/sota/Dropbox/2 Business/2 Areas/datons.academy/2 Areas/Products/Digital Courses/DAV/course-maven/solutions/notebooks/60_APIs/64_Custom Library/B.ipynb",
   "parameters": {},
   "start_time": "2024-04-10T10:57:28.580147",
   "version": "2.5.0"
  }
 },
 "nbformat": 4,
 "nbformat_minor": 5
}
